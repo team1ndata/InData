{
  "cells": [
    {
      "cell_type": "markdown",
      "source": [
        "**Importando librería **"
      ],
      "metadata": {
        "nteract": {
          "transient": {
            "deleting": false
          }
        }
      }
    },
    {
      "cell_type": "code",
      "source": [
        "import pandas as pd"
      ],
      "outputs": [],
      "execution_count": 3,
      "metadata": {
        "jupyter": {
          "source_hidden": false,
          "outputs_hidden": false
        },
        "nteract": {
          "transient": {
            "deleting": false
          }
        },
        "gather": {
          "logged": 1666820141179
        }
      }
    },
    {
      "cell_type": "markdown",
      "source": [
        "**Importando data del data lake **"
      ],
      "metadata": {
        "nteract": {
          "transient": {
            "deleting": false
          }
        }
      }
    },
    {
      "cell_type": "code",
      "source": [
        "df = pd.read_csv('https://storagehenrypf.blob.core.windows.net/henrypf/DWH.Maestra_Indicadores.csv')\n"
      ],
      "outputs": [],
      "execution_count": 4,
      "metadata": {
        "jupyter": {
          "source_hidden": false,
          "outputs_hidden": false
        },
        "nteract": {
          "transient": {
            "deleting": false
          }
        },
        "gather": {
          "logged": 1666820143311
        }
      }
    },
    {
      "cell_type": "code",
      "source": [
        "df_sort=df.sort_values(by=['country_value','date'])\n",
        "df_sort.head(10)"
      ],
      "outputs": [
        {
          "output_type": "execute_result",
          "execution_count": 5,
          "data": {
            "text/plain": "    country_value  date countryiso3code  NY.GDP.MKTP.CD  SH.STA.SUIC.P5  \\\n0     Afghanistan  1990             AFG             NaN             NaN   \n30    Afghanistan  1991             AFG             NaN             NaN   \n60    Afghanistan  1992             AFG             NaN             NaN   \n90    Afghanistan  1993             AFG             NaN             NaN   \n120   Afghanistan  1994             AFG             NaN             NaN   \n150   Afghanistan  1995             AFG             NaN             NaN   \n180   Afghanistan  1996             AFG             NaN             NaN   \n210   Afghanistan  1997             AFG             NaN             NaN   \n240   Afghanistan  1998             AFG             NaN             NaN   \n270   Afghanistan  1999             AFG             NaN             NaN   \n\n     SP.DYN.TFRT.IN  SP.ADO.TFRT  SP.DYN.CBRT.IN  SP.DYN.IMRT.IN  \\\n0             7.466     162.8354          48.880           120.8   \n30            7.479     163.3822          48.763           117.1   \n60            7.502     163.9290          48.709           113.5   \n90            7.535     164.1888          48.717           110.1   \n120           7.572     164.4486          48.770           106.9   \n150           7.606     164.7084          48.835           103.9   \n180           7.629     164.9682          48.870           101.0   \n210           7.632     165.2280          48.833            98.2   \n240           7.610     161.4690          48.688            95.6   \n270           7.561     157.7100          48.419            93.0   \n\n     SH.XPD.CHEX.PC.CD  SH.XPD.CHEX.GD.ZS  SP.DYN.LE00.IN  SP.POP.GROW  \\\n0                  NaN                NaN          50.331     4.476954   \n30                 NaN                NaN          50.999     6.900124   \n60                 NaN                NaN          51.641     8.546107   \n90                 NaN                NaN          52.256     8.790897   \n120                NaN                NaN          52.842     7.659796   \n150                NaN                NaN          53.398     5.884279   \n180                NaN                NaN          53.924     4.019478   \n210                NaN                NaN          54.424     2.636502   \n240                NaN                NaN          54.906     1.947344   \n270                NaN                NaN          55.376     2.170429   \n\n     SP.POP.TOTL  NY.GDP.PCAP.CD  ncd_bmi_25a  ncd_hyp_prevalence_a  \n0       12412311             NaN         10.4                  35.5  \n30      13299016             NaN         10.7                  35.5  \n60      14485543             NaN         11.0                  35.6  \n90      15816601             NaN         11.4                  35.6  \n120     17075728             NaN         11.7                  35.7  \n150     18110662             NaN         12.1                  35.8  \n180     18853444             NaN         12.5                  35.8  \n210     19357126             NaN         12.9                  35.9  \n240     19737770             NaN         13.4                  36.1  \n270     20170847             NaN         13.8                  36.2  ",
            "text/html": "<div>\n<style scoped>\n    .dataframe tbody tr th:only-of-type {\n        vertical-align: middle;\n    }\n\n    .dataframe tbody tr th {\n        vertical-align: top;\n    }\n\n    .dataframe thead th {\n        text-align: right;\n    }\n</style>\n<table border=\"1\" class=\"dataframe\">\n  <thead>\n    <tr style=\"text-align: right;\">\n      <th></th>\n      <th>country_value</th>\n      <th>date</th>\n      <th>countryiso3code</th>\n      <th>NY.GDP.MKTP.CD</th>\n      <th>SH.STA.SUIC.P5</th>\n      <th>SP.DYN.TFRT.IN</th>\n      <th>SP.ADO.TFRT</th>\n      <th>SP.DYN.CBRT.IN</th>\n      <th>SP.DYN.IMRT.IN</th>\n      <th>SH.XPD.CHEX.PC.CD</th>\n      <th>SH.XPD.CHEX.GD.ZS</th>\n      <th>SP.DYN.LE00.IN</th>\n      <th>SP.POP.GROW</th>\n      <th>SP.POP.TOTL</th>\n      <th>NY.GDP.PCAP.CD</th>\n      <th>ncd_bmi_25a</th>\n      <th>ncd_hyp_prevalence_a</th>\n    </tr>\n  </thead>\n  <tbody>\n    <tr>\n      <th>0</th>\n      <td>Afghanistan</td>\n      <td>1990</td>\n      <td>AFG</td>\n      <td>NaN</td>\n      <td>NaN</td>\n      <td>7.466</td>\n      <td>162.8354</td>\n      <td>48.880</td>\n      <td>120.8</td>\n      <td>NaN</td>\n      <td>NaN</td>\n      <td>50.331</td>\n      <td>4.476954</td>\n      <td>12412311</td>\n      <td>NaN</td>\n      <td>10.4</td>\n      <td>35.5</td>\n    </tr>\n    <tr>\n      <th>30</th>\n      <td>Afghanistan</td>\n      <td>1991</td>\n      <td>AFG</td>\n      <td>NaN</td>\n      <td>NaN</td>\n      <td>7.479</td>\n      <td>163.3822</td>\n      <td>48.763</td>\n      <td>117.1</td>\n      <td>NaN</td>\n      <td>NaN</td>\n      <td>50.999</td>\n      <td>6.900124</td>\n      <td>13299016</td>\n      <td>NaN</td>\n      <td>10.7</td>\n      <td>35.5</td>\n    </tr>\n    <tr>\n      <th>60</th>\n      <td>Afghanistan</td>\n      <td>1992</td>\n      <td>AFG</td>\n      <td>NaN</td>\n      <td>NaN</td>\n      <td>7.502</td>\n      <td>163.9290</td>\n      <td>48.709</td>\n      <td>113.5</td>\n      <td>NaN</td>\n      <td>NaN</td>\n      <td>51.641</td>\n      <td>8.546107</td>\n      <td>14485543</td>\n      <td>NaN</td>\n      <td>11.0</td>\n      <td>35.6</td>\n    </tr>\n    <tr>\n      <th>90</th>\n      <td>Afghanistan</td>\n      <td>1993</td>\n      <td>AFG</td>\n      <td>NaN</td>\n      <td>NaN</td>\n      <td>7.535</td>\n      <td>164.1888</td>\n      <td>48.717</td>\n      <td>110.1</td>\n      <td>NaN</td>\n      <td>NaN</td>\n      <td>52.256</td>\n      <td>8.790897</td>\n      <td>15816601</td>\n      <td>NaN</td>\n      <td>11.4</td>\n      <td>35.6</td>\n    </tr>\n    <tr>\n      <th>120</th>\n      <td>Afghanistan</td>\n      <td>1994</td>\n      <td>AFG</td>\n      <td>NaN</td>\n      <td>NaN</td>\n      <td>7.572</td>\n      <td>164.4486</td>\n      <td>48.770</td>\n      <td>106.9</td>\n      <td>NaN</td>\n      <td>NaN</td>\n      <td>52.842</td>\n      <td>7.659796</td>\n      <td>17075728</td>\n      <td>NaN</td>\n      <td>11.7</td>\n      <td>35.7</td>\n    </tr>\n    <tr>\n      <th>150</th>\n      <td>Afghanistan</td>\n      <td>1995</td>\n      <td>AFG</td>\n      <td>NaN</td>\n      <td>NaN</td>\n      <td>7.606</td>\n      <td>164.7084</td>\n      <td>48.835</td>\n      <td>103.9</td>\n      <td>NaN</td>\n      <td>NaN</td>\n      <td>53.398</td>\n      <td>5.884279</td>\n      <td>18110662</td>\n      <td>NaN</td>\n      <td>12.1</td>\n      <td>35.8</td>\n    </tr>\n    <tr>\n      <th>180</th>\n      <td>Afghanistan</td>\n      <td>1996</td>\n      <td>AFG</td>\n      <td>NaN</td>\n      <td>NaN</td>\n      <td>7.629</td>\n      <td>164.9682</td>\n      <td>48.870</td>\n      <td>101.0</td>\n      <td>NaN</td>\n      <td>NaN</td>\n      <td>53.924</td>\n      <td>4.019478</td>\n      <td>18853444</td>\n      <td>NaN</td>\n      <td>12.5</td>\n      <td>35.8</td>\n    </tr>\n    <tr>\n      <th>210</th>\n      <td>Afghanistan</td>\n      <td>1997</td>\n      <td>AFG</td>\n      <td>NaN</td>\n      <td>NaN</td>\n      <td>7.632</td>\n      <td>165.2280</td>\n      <td>48.833</td>\n      <td>98.2</td>\n      <td>NaN</td>\n      <td>NaN</td>\n      <td>54.424</td>\n      <td>2.636502</td>\n      <td>19357126</td>\n      <td>NaN</td>\n      <td>12.9</td>\n      <td>35.9</td>\n    </tr>\n    <tr>\n      <th>240</th>\n      <td>Afghanistan</td>\n      <td>1998</td>\n      <td>AFG</td>\n      <td>NaN</td>\n      <td>NaN</td>\n      <td>7.610</td>\n      <td>161.4690</td>\n      <td>48.688</td>\n      <td>95.6</td>\n      <td>NaN</td>\n      <td>NaN</td>\n      <td>54.906</td>\n      <td>1.947344</td>\n      <td>19737770</td>\n      <td>NaN</td>\n      <td>13.4</td>\n      <td>36.1</td>\n    </tr>\n    <tr>\n      <th>270</th>\n      <td>Afghanistan</td>\n      <td>1999</td>\n      <td>AFG</td>\n      <td>NaN</td>\n      <td>NaN</td>\n      <td>7.561</td>\n      <td>157.7100</td>\n      <td>48.419</td>\n      <td>93.0</td>\n      <td>NaN</td>\n      <td>NaN</td>\n      <td>55.376</td>\n      <td>2.170429</td>\n      <td>20170847</td>\n      <td>NaN</td>\n      <td>13.8</td>\n      <td>36.2</td>\n    </tr>\n  </tbody>\n</table>\n</div>"
          },
          "metadata": {}
        }
      ],
      "execution_count": 5,
      "metadata": {
        "jupyter": {
          "source_hidden": false,
          "outputs_hidden": false
        },
        "nteract": {
          "transient": {
            "deleting": false
          }
        },
        "gather": {
          "logged": 1666820145285
        }
      }
    },
    {
      "cell_type": "markdown",
      "source": [
        "**Dividiendo el dataframe en dos: **\n",
        "- df_Indicadores:  columnas de los Indicadores\n",
        "- Y : columnas de país y año"
      ],
      "metadata": {
        "nteract": {
          "transient": {
            "deleting": false
          }
        }
      }
    },
    {
      "cell_type": "code",
      "source": [
        "df_indicadores =df_sort.iloc[:,3:]\n",
        "df_indicadores.head(3)"
      ],
      "outputs": [
        {
          "output_type": "execute_result",
          "execution_count": 6,
          "data": {
            "text/plain": "    NY.GDP.MKTP.CD  SH.STA.SUIC.P5  SP.DYN.TFRT.IN  SP.ADO.TFRT  \\\n0              NaN             NaN           7.466     162.8354   \n30             NaN             NaN           7.479     163.3822   \n60             NaN             NaN           7.502     163.9290   \n\n    SP.DYN.CBRT.IN  SP.DYN.IMRT.IN  SH.XPD.CHEX.PC.CD  SH.XPD.CHEX.GD.ZS  \\\n0           48.880           120.8                NaN                NaN   \n30          48.763           117.1                NaN                NaN   \n60          48.709           113.5                NaN                NaN   \n\n    SP.DYN.LE00.IN  SP.POP.GROW  SP.POP.TOTL  NY.GDP.PCAP.CD  ncd_bmi_25a  \\\n0           50.331     4.476954     12412311             NaN         10.4   \n30          50.999     6.900124     13299016             NaN         10.7   \n60          51.641     8.546107     14485543             NaN         11.0   \n\n    ncd_hyp_prevalence_a  \n0                   35.5  \n30                  35.5  \n60                  35.6  ",
            "text/html": "<div>\n<style scoped>\n    .dataframe tbody tr th:only-of-type {\n        vertical-align: middle;\n    }\n\n    .dataframe tbody tr th {\n        vertical-align: top;\n    }\n\n    .dataframe thead th {\n        text-align: right;\n    }\n</style>\n<table border=\"1\" class=\"dataframe\">\n  <thead>\n    <tr style=\"text-align: right;\">\n      <th></th>\n      <th>NY.GDP.MKTP.CD</th>\n      <th>SH.STA.SUIC.P5</th>\n      <th>SP.DYN.TFRT.IN</th>\n      <th>SP.ADO.TFRT</th>\n      <th>SP.DYN.CBRT.IN</th>\n      <th>SP.DYN.IMRT.IN</th>\n      <th>SH.XPD.CHEX.PC.CD</th>\n      <th>SH.XPD.CHEX.GD.ZS</th>\n      <th>SP.DYN.LE00.IN</th>\n      <th>SP.POP.GROW</th>\n      <th>SP.POP.TOTL</th>\n      <th>NY.GDP.PCAP.CD</th>\n      <th>ncd_bmi_25a</th>\n      <th>ncd_hyp_prevalence_a</th>\n    </tr>\n  </thead>\n  <tbody>\n    <tr>\n      <th>0</th>\n      <td>NaN</td>\n      <td>NaN</td>\n      <td>7.466</td>\n      <td>162.8354</td>\n      <td>48.880</td>\n      <td>120.8</td>\n      <td>NaN</td>\n      <td>NaN</td>\n      <td>50.331</td>\n      <td>4.476954</td>\n      <td>12412311</td>\n      <td>NaN</td>\n      <td>10.4</td>\n      <td>35.5</td>\n    </tr>\n    <tr>\n      <th>30</th>\n      <td>NaN</td>\n      <td>NaN</td>\n      <td>7.479</td>\n      <td>163.3822</td>\n      <td>48.763</td>\n      <td>117.1</td>\n      <td>NaN</td>\n      <td>NaN</td>\n      <td>50.999</td>\n      <td>6.900124</td>\n      <td>13299016</td>\n      <td>NaN</td>\n      <td>10.7</td>\n      <td>35.5</td>\n    </tr>\n    <tr>\n      <th>60</th>\n      <td>NaN</td>\n      <td>NaN</td>\n      <td>7.502</td>\n      <td>163.9290</td>\n      <td>48.709</td>\n      <td>113.5</td>\n      <td>NaN</td>\n      <td>NaN</td>\n      <td>51.641</td>\n      <td>8.546107</td>\n      <td>14485543</td>\n      <td>NaN</td>\n      <td>11.0</td>\n      <td>35.6</td>\n    </tr>\n  </tbody>\n</table>\n</div>"
          },
          "metadata": {}
        }
      ],
      "execution_count": 6,
      "metadata": {
        "jupyter": {
          "source_hidden": false,
          "outputs_hidden": false
        },
        "nteract": {
          "transient": {
            "deleting": false
          }
        },
        "gather": {
          "logged": 1666820148317
        }
      }
    },
    {
      "cell_type": "code",
      "source": [
        "Y =df_sort.iloc[:,0:3]\n",
        "Y.head(3)\n"
      ],
      "outputs": [
        {
          "output_type": "execute_result",
          "execution_count": 7,
          "data": {
            "text/plain": "   country_value  date countryiso3code\n0    Afghanistan  1990             AFG\n30   Afghanistan  1991             AFG\n60   Afghanistan  1992             AFG",
            "text/html": "<div>\n<style scoped>\n    .dataframe tbody tr th:only-of-type {\n        vertical-align: middle;\n    }\n\n    .dataframe tbody tr th {\n        vertical-align: top;\n    }\n\n    .dataframe thead th {\n        text-align: right;\n    }\n</style>\n<table border=\"1\" class=\"dataframe\">\n  <thead>\n    <tr style=\"text-align: right;\">\n      <th></th>\n      <th>country_value</th>\n      <th>date</th>\n      <th>countryiso3code</th>\n    </tr>\n  </thead>\n  <tbody>\n    <tr>\n      <th>0</th>\n      <td>Afghanistan</td>\n      <td>1990</td>\n      <td>AFG</td>\n    </tr>\n    <tr>\n      <th>30</th>\n      <td>Afghanistan</td>\n      <td>1991</td>\n      <td>AFG</td>\n    </tr>\n    <tr>\n      <th>60</th>\n      <td>Afghanistan</td>\n      <td>1992</td>\n      <td>AFG</td>\n    </tr>\n  </tbody>\n</table>\n</div>"
          },
          "metadata": {}
        }
      ],
      "execution_count": 7,
      "metadata": {
        "jupyter": {
          "source_hidden": false,
          "outputs_hidden": false
        },
        "nteract": {
          "transient": {
            "deleting": false
          }
        },
        "gather": {
          "logged": 1666820150619
        }
      }
    },
    {
      "cell_type": "code",
      "source": [
        "X=df_indicadores\n",
        "X.head(3)"
      ],
      "outputs": [
        {
          "output_type": "execute_result",
          "execution_count": 9,
          "data": {
            "text/plain": "    NY.GDP.MKTP.CD  SH.STA.SUIC.P5  SP.DYN.TFRT.IN  SP.ADO.TFRT  \\\n0              NaN             NaN           7.466     162.8354   \n30             NaN             NaN           7.479     163.3822   \n60             NaN             NaN           7.502     163.9290   \n\n    SP.DYN.CBRT.IN  SP.DYN.IMRT.IN  SH.XPD.CHEX.PC.CD  SH.XPD.CHEX.GD.ZS  \\\n0           48.880           120.8                NaN                NaN   \n30          48.763           117.1                NaN                NaN   \n60          48.709           113.5                NaN                NaN   \n\n    SP.DYN.LE00.IN  SP.POP.GROW  SP.POP.TOTL  NY.GDP.PCAP.CD  ncd_bmi_25a  \\\n0           50.331     4.476954     12412311             NaN         10.4   \n30          50.999     6.900124     13299016             NaN         10.7   \n60          51.641     8.546107     14485543             NaN         11.0   \n\n    ncd_hyp_prevalence_a  \n0                   35.5  \n30                  35.5  \n60                  35.6  ",
            "text/html": "<div>\n<style scoped>\n    .dataframe tbody tr th:only-of-type {\n        vertical-align: middle;\n    }\n\n    .dataframe tbody tr th {\n        vertical-align: top;\n    }\n\n    .dataframe thead th {\n        text-align: right;\n    }\n</style>\n<table border=\"1\" class=\"dataframe\">\n  <thead>\n    <tr style=\"text-align: right;\">\n      <th></th>\n      <th>NY.GDP.MKTP.CD</th>\n      <th>SH.STA.SUIC.P5</th>\n      <th>SP.DYN.TFRT.IN</th>\n      <th>SP.ADO.TFRT</th>\n      <th>SP.DYN.CBRT.IN</th>\n      <th>SP.DYN.IMRT.IN</th>\n      <th>SH.XPD.CHEX.PC.CD</th>\n      <th>SH.XPD.CHEX.GD.ZS</th>\n      <th>SP.DYN.LE00.IN</th>\n      <th>SP.POP.GROW</th>\n      <th>SP.POP.TOTL</th>\n      <th>NY.GDP.PCAP.CD</th>\n      <th>ncd_bmi_25a</th>\n      <th>ncd_hyp_prevalence_a</th>\n    </tr>\n  </thead>\n  <tbody>\n    <tr>\n      <th>0</th>\n      <td>NaN</td>\n      <td>NaN</td>\n      <td>7.466</td>\n      <td>162.8354</td>\n      <td>48.880</td>\n      <td>120.8</td>\n      <td>NaN</td>\n      <td>NaN</td>\n      <td>50.331</td>\n      <td>4.476954</td>\n      <td>12412311</td>\n      <td>NaN</td>\n      <td>10.4</td>\n      <td>35.5</td>\n    </tr>\n    <tr>\n      <th>30</th>\n      <td>NaN</td>\n      <td>NaN</td>\n      <td>7.479</td>\n      <td>163.3822</td>\n      <td>48.763</td>\n      <td>117.1</td>\n      <td>NaN</td>\n      <td>NaN</td>\n      <td>50.999</td>\n      <td>6.900124</td>\n      <td>13299016</td>\n      <td>NaN</td>\n      <td>10.7</td>\n      <td>35.5</td>\n    </tr>\n    <tr>\n      <th>60</th>\n      <td>NaN</td>\n      <td>NaN</td>\n      <td>7.502</td>\n      <td>163.9290</td>\n      <td>48.709</td>\n      <td>113.5</td>\n      <td>NaN</td>\n      <td>NaN</td>\n      <td>51.641</td>\n      <td>8.546107</td>\n      <td>14485543</td>\n      <td>NaN</td>\n      <td>11.0</td>\n      <td>35.6</td>\n    </tr>\n  </tbody>\n</table>\n</div>"
          },
          "metadata": {}
        }
      ],
      "execution_count": 9,
      "metadata": {
        "jupyter": {
          "source_hidden": false,
          "outputs_hidden": false
        },
        "nteract": {
          "transient": {
            "deleting": false
          }
        },
        "gather": {
          "logged": 1666820208221
        }
      }
    },
    {
      "cell_type": "markdown",
      "source": [
        "**Se procesa el dataframe de los indicadores para la imputación de valores nulos usando el algoritmo MICE (Multiple Inputation by Chained Equations)**"
      ],
      "metadata": {
        "nteract": {
          "transient": {
            "deleting": false
          }
        }
      }
    },
    {
      "cell_type": "code",
      "source": [
        "import numpy as np\n",
        "from sklearn.experimental import enable_iterative_imputer\n",
        "from sklearn.impute import IterativeImputer\n",
        "from sklearn.linear_model import LinearRegression\n",
        "\n",
        "lr = LinearRegression()\n",
        "imp = IterativeImputer(estimator=lr,missing_values=np.nan, max_iter=10, verbose=2, imputation_order='roman',random_state=0)\n",
        "X=imp.fit_transform(X)"
      ],
      "outputs": [
        {
          "output_type": "stream",
          "name": "stdout",
          "text": "[IterativeImputer] Completing matrix with shape (960, 14)\n[IterativeImputer] Ending imputation round 1/10, elapsed time 0.05\n[IterativeImputer] Change: 2418052105363.277, scaled tolerance: 22996100000.0 \n[IterativeImputer] Ending imputation round 2/10, elapsed time 0.09\n[IterativeImputer] Change: 321029495628.15704, scaled tolerance: 22996100000.0 \n[IterativeImputer] Ending imputation round 3/10, elapsed time 0.13\n[IterativeImputer] Change: 187801971595.27094, scaled tolerance: 22996100000.0 \n[IterativeImputer] Ending imputation round 4/10, elapsed time 0.17\n[IterativeImputer] Change: 114639259633.2083, scaled tolerance: 22996100000.0 \n[IterativeImputer] Ending imputation round 5/10, elapsed time 0.24\n[IterativeImputer] Change: 60559426146.787125, scaled tolerance: 22996100000.0 \n[IterativeImputer] Ending imputation round 6/10, elapsed time 0.29\n[IterativeImputer] Change: 72080019074.23886, scaled tolerance: 22996100000.0 \n[IterativeImputer] Ending imputation round 7/10, elapsed time 0.33\n[IterativeImputer] Change: 78281073143.54694, scaled tolerance: 22996100000.0 \n[IterativeImputer] Ending imputation round 8/10, elapsed time 0.38\n[IterativeImputer] Change: 81576816078.70903, scaled tolerance: 22996100000.0 \n[IterativeImputer] Ending imputation round 9/10, elapsed time 0.42\n[IterativeImputer] Change: 83464563846.75304, scaled tolerance: 22996100000.0 \n[IterativeImputer] Ending imputation round 10/10, elapsed time 0.47\n[IterativeImputer] Change: 84646911823.6914, scaled tolerance: 22996100000.0 \n"
        }
      ],
      "execution_count": 10,
      "metadata": {
        "jupyter": {
          "source_hidden": false,
          "outputs_hidden": false
        },
        "nteract": {
          "transient": {
            "deleting": false
          }
        },
        "gather": {
          "logged": 1666820220167
        }
      }
    },
    {
      "cell_type": "markdown",
      "source": [
        "**Visualizando el resultado**"
      ],
      "metadata": {
        "nteract": {
          "transient": {
            "deleting": false
          }
        }
      }
    },
    {
      "cell_type": "code",
      "source": [
        "X=pd.DataFrame(X)\n",
        "X"
      ],
      "outputs": [
        {
          "output_type": "execute_result",
          "execution_count": 15,
          "data": {
            "text/plain": "               0          1         2           3          4           5   \\\n0    1.031453e+12  -0.929015  7.466000  162.835400  48.880000  120.800000   \n1   -2.167522e+11  -0.268808  7.479000  163.382200  48.763000  117.100000   \n2   -1.003638e+12   0.183647  7.502000  163.929000  48.709000  113.500000   \n3   -9.801795e+11   0.230576  7.535000  164.188800  48.717000  110.100000   \n4   -1.557734e+11  -0.108478  7.572000  164.448600  48.770000  106.900000   \n..            ...        ...       ...         ...        ...         ...   \n955  1.947962e+13  15.900000  1.765500   19.860000  11.800000    5.700000   \n956  2.052716e+13  15.700000  1.729500   18.556200  11.600000    5.600000   \n957  2.137257e+13  16.100000  1.706000   17.252400  11.400000    5.500000   \n958  2.089374e+13  16.584004  1.637500   15.948600  10.900000    5.400000   \n959  2.299610e+13  14.304306  2.652353   33.675445  13.650302    6.137115   \n\n               6          7          8         9            10            11  \\\n0     1293.788333   7.417974  50.331000  4.476954   12412311.0   8627.147190   \n1     1182.697400   9.270762  50.999000  6.900124   13299016.0  11442.608308   \n2     1112.294574  10.601289  51.641000  8.546107   14485543.0  13365.602001   \n3     1120.202445  10.971836  52.256000  8.790897   15816601.0  13780.724758   \n4     1199.297876  10.400813  52.842000  7.659796   17075728.0  12620.385434   \n..            ...        ...        ...       ...          ...           ...   \n955  10103.091797  16.805836  78.539024  0.632644  325122128.0  59914.777797   \n956  10515.323242  16.687105  78.639024  0.526435  326838199.0  62805.253758   \n957  10921.012695  16.767063  78.787805  0.455381  328329953.0  65094.799429   \n958   9767.538183  17.757916  77.280488  0.961201  331501080.0  63027.679527   \n959  10703.104876  19.698022  77.906939  0.118380  331893745.0  69287.536588   \n\n            12         13  \n0    10.400000  35.500000  \n1    10.700000  35.500000  \n2    11.000000  35.600000  \n3    11.400000  35.600000  \n4    11.700000  35.700000  \n..         ...        ...  \n955  53.114353  31.600000  \n956  53.298648  31.600000  \n957  52.798797  31.600000  \n958  66.148737  31.801144  \n959  69.842676  32.080098  \n\n[960 rows x 14 columns]",
            "text/html": "<div>\n<style scoped>\n    .dataframe tbody tr th:only-of-type {\n        vertical-align: middle;\n    }\n\n    .dataframe tbody tr th {\n        vertical-align: top;\n    }\n\n    .dataframe thead th {\n        text-align: right;\n    }\n</style>\n<table border=\"1\" class=\"dataframe\">\n  <thead>\n    <tr style=\"text-align: right;\">\n      <th></th>\n      <th>0</th>\n      <th>1</th>\n      <th>2</th>\n      <th>3</th>\n      <th>4</th>\n      <th>5</th>\n      <th>6</th>\n      <th>7</th>\n      <th>8</th>\n      <th>9</th>\n      <th>10</th>\n      <th>11</th>\n      <th>12</th>\n      <th>13</th>\n    </tr>\n  </thead>\n  <tbody>\n    <tr>\n      <th>0</th>\n      <td>1.031453e+12</td>\n      <td>-0.929015</td>\n      <td>7.466000</td>\n      <td>162.835400</td>\n      <td>48.880000</td>\n      <td>120.800000</td>\n      <td>1293.788333</td>\n      <td>7.417974</td>\n      <td>50.331000</td>\n      <td>4.476954</td>\n      <td>12412311.0</td>\n      <td>8627.147190</td>\n      <td>10.400000</td>\n      <td>35.500000</td>\n    </tr>\n    <tr>\n      <th>1</th>\n      <td>-2.167522e+11</td>\n      <td>-0.268808</td>\n      <td>7.479000</td>\n      <td>163.382200</td>\n      <td>48.763000</td>\n      <td>117.100000</td>\n      <td>1182.697400</td>\n      <td>9.270762</td>\n      <td>50.999000</td>\n      <td>6.900124</td>\n      <td>13299016.0</td>\n      <td>11442.608308</td>\n      <td>10.700000</td>\n      <td>35.500000</td>\n    </tr>\n    <tr>\n      <th>2</th>\n      <td>-1.003638e+12</td>\n      <td>0.183647</td>\n      <td>7.502000</td>\n      <td>163.929000</td>\n      <td>48.709000</td>\n      <td>113.500000</td>\n      <td>1112.294574</td>\n      <td>10.601289</td>\n      <td>51.641000</td>\n      <td>8.546107</td>\n      <td>14485543.0</td>\n      <td>13365.602001</td>\n      <td>11.000000</td>\n      <td>35.600000</td>\n    </tr>\n    <tr>\n      <th>3</th>\n      <td>-9.801795e+11</td>\n      <td>0.230576</td>\n      <td>7.535000</td>\n      <td>164.188800</td>\n      <td>48.717000</td>\n      <td>110.100000</td>\n      <td>1120.202445</td>\n      <td>10.971836</td>\n      <td>52.256000</td>\n      <td>8.790897</td>\n      <td>15816601.0</td>\n      <td>13780.724758</td>\n      <td>11.400000</td>\n      <td>35.600000</td>\n    </tr>\n    <tr>\n      <th>4</th>\n      <td>-1.557734e+11</td>\n      <td>-0.108478</td>\n      <td>7.572000</td>\n      <td>164.448600</td>\n      <td>48.770000</td>\n      <td>106.900000</td>\n      <td>1199.297876</td>\n      <td>10.400813</td>\n      <td>52.842000</td>\n      <td>7.659796</td>\n      <td>17075728.0</td>\n      <td>12620.385434</td>\n      <td>11.700000</td>\n      <td>35.700000</td>\n    </tr>\n    <tr>\n      <th>...</th>\n      <td>...</td>\n      <td>...</td>\n      <td>...</td>\n      <td>...</td>\n      <td>...</td>\n      <td>...</td>\n      <td>...</td>\n      <td>...</td>\n      <td>...</td>\n      <td>...</td>\n      <td>...</td>\n      <td>...</td>\n      <td>...</td>\n      <td>...</td>\n    </tr>\n    <tr>\n      <th>955</th>\n      <td>1.947962e+13</td>\n      <td>15.900000</td>\n      <td>1.765500</td>\n      <td>19.860000</td>\n      <td>11.800000</td>\n      <td>5.700000</td>\n      <td>10103.091797</td>\n      <td>16.805836</td>\n      <td>78.539024</td>\n      <td>0.632644</td>\n      <td>325122128.0</td>\n      <td>59914.777797</td>\n      <td>53.114353</td>\n      <td>31.600000</td>\n    </tr>\n    <tr>\n      <th>956</th>\n      <td>2.052716e+13</td>\n      <td>15.700000</td>\n      <td>1.729500</td>\n      <td>18.556200</td>\n      <td>11.600000</td>\n      <td>5.600000</td>\n      <td>10515.323242</td>\n      <td>16.687105</td>\n      <td>78.639024</td>\n      <td>0.526435</td>\n      <td>326838199.0</td>\n      <td>62805.253758</td>\n      <td>53.298648</td>\n      <td>31.600000</td>\n    </tr>\n    <tr>\n      <th>957</th>\n      <td>2.137257e+13</td>\n      <td>16.100000</td>\n      <td>1.706000</td>\n      <td>17.252400</td>\n      <td>11.400000</td>\n      <td>5.500000</td>\n      <td>10921.012695</td>\n      <td>16.767063</td>\n      <td>78.787805</td>\n      <td>0.455381</td>\n      <td>328329953.0</td>\n      <td>65094.799429</td>\n      <td>52.798797</td>\n      <td>31.600000</td>\n    </tr>\n    <tr>\n      <th>958</th>\n      <td>2.089374e+13</td>\n      <td>16.584004</td>\n      <td>1.637500</td>\n      <td>15.948600</td>\n      <td>10.900000</td>\n      <td>5.400000</td>\n      <td>9767.538183</td>\n      <td>17.757916</td>\n      <td>77.280488</td>\n      <td>0.961201</td>\n      <td>331501080.0</td>\n      <td>63027.679527</td>\n      <td>66.148737</td>\n      <td>31.801144</td>\n    </tr>\n    <tr>\n      <th>959</th>\n      <td>2.299610e+13</td>\n      <td>14.304306</td>\n      <td>2.652353</td>\n      <td>33.675445</td>\n      <td>13.650302</td>\n      <td>6.137115</td>\n      <td>10703.104876</td>\n      <td>19.698022</td>\n      <td>77.906939</td>\n      <td>0.118380</td>\n      <td>331893745.0</td>\n      <td>69287.536588</td>\n      <td>69.842676</td>\n      <td>32.080098</td>\n    </tr>\n  </tbody>\n</table>\n<p>960 rows × 14 columns</p>\n</div>"
          },
          "metadata": {}
        }
      ],
      "execution_count": 15,
      "metadata": {
        "jupyter": {
          "source_hidden": false,
          "outputs_hidden": false
        },
        "nteract": {
          "transient": {
            "deleting": false
          }
        },
        "gather": {
          "logged": 1666820314327
        }
      }
    },
    {
      "cell_type": "markdown",
      "source": [
        "**Agregando las columnas de País/Año al dataframe con los valores imputados**"
      ],
      "metadata": {
        "nteract": {
          "transient": {
            "deleting": false
          }
        }
      }
    },
    {
      "cell_type": "code",
      "source": [
        "\n",
        "X[\"country_value\"] = Y.iloc[:,0:1].reset_index()[\"country_value\"]\n",
        "X[\"date\"] = Y.iloc[:,1:2].reset_index()[\"date\"]\n",
        "X[\"countryiso3code\"] = Y.iloc[:,2:3].reset_index()[\"countryiso3code\"]\n",
        "\n",
        "\n",
        "\n",
        "\n"
      ],
      "outputs": [],
      "execution_count": 16,
      "metadata": {
        "jupyter": {
          "source_hidden": false,
          "outputs_hidden": false
        },
        "nteract": {
          "transient": {
            "deleting": false
          }
        },
        "gather": {
          "logged": 1666820349238
        }
      }
    },
    {
      "cell_type": "code",
      "source": [
        "X=pd.DataFrame(X)\n",
        "X"
      ],
      "outputs": [
        {
          "output_type": "execute_result",
          "execution_count": 17,
          "data": {
            "text/plain": "                0          1         2           3          4           5  \\\n0    1.031453e+12  -0.929015  7.466000  162.835400  48.880000  120.800000   \n1   -2.167522e+11  -0.268808  7.479000  163.382200  48.763000  117.100000   \n2   -1.003638e+12   0.183647  7.502000  163.929000  48.709000  113.500000   \n3   -9.801795e+11   0.230576  7.535000  164.188800  48.717000  110.100000   \n4   -1.557734e+11  -0.108478  7.572000  164.448600  48.770000  106.900000   \n..            ...        ...       ...         ...        ...         ...   \n955  1.947962e+13  15.900000  1.765500   19.860000  11.800000    5.700000   \n956  2.052716e+13  15.700000  1.729500   18.556200  11.600000    5.600000   \n957  2.137257e+13  16.100000  1.706000   17.252400  11.400000    5.500000   \n958  2.089374e+13  16.584004  1.637500   15.948600  10.900000    5.400000   \n959  2.299610e+13  14.304306  2.652353   33.675445  13.650302    6.137115   \n\n                6          7          8         9           10            11  \\\n0     1293.788333   7.417974  50.331000  4.476954   12412311.0   8627.147190   \n1     1182.697400   9.270762  50.999000  6.900124   13299016.0  11442.608308   \n2     1112.294574  10.601289  51.641000  8.546107   14485543.0  13365.602001   \n3     1120.202445  10.971836  52.256000  8.790897   15816601.0  13780.724758   \n4     1199.297876  10.400813  52.842000  7.659796   17075728.0  12620.385434   \n..            ...        ...        ...       ...          ...           ...   \n955  10103.091797  16.805836  78.539024  0.632644  325122128.0  59914.777797   \n956  10515.323242  16.687105  78.639024  0.526435  326838199.0  62805.253758   \n957  10921.012695  16.767063  78.787805  0.455381  328329953.0  65094.799429   \n958   9767.538183  17.757916  77.280488  0.961201  331501080.0  63027.679527   \n959  10703.104876  19.698022  77.906939  0.118380  331893745.0  69287.536588   \n\n            12         13  country_value  date countryiso3code  \n0    10.400000  35.500000    Afghanistan  1990             AFG  \n1    10.700000  35.500000    Afghanistan  1991             AFG  \n2    11.000000  35.600000    Afghanistan  1992             AFG  \n3    11.400000  35.600000    Afghanistan  1993             AFG  \n4    11.700000  35.700000    Afghanistan  1994             AFG  \n..         ...        ...            ...   ...             ...  \n955  53.114353  31.600000  United States  2017             USA  \n956  53.298648  31.600000  United States  2018             USA  \n957  52.798797  31.600000  United States  2019             USA  \n958  66.148737  31.801144  United States  2020             USA  \n959  69.842676  32.080098  United States  2021             USA  \n\n[960 rows x 17 columns]",
            "text/html": "<div>\n<style scoped>\n    .dataframe tbody tr th:only-of-type {\n        vertical-align: middle;\n    }\n\n    .dataframe tbody tr th {\n        vertical-align: top;\n    }\n\n    .dataframe thead th {\n        text-align: right;\n    }\n</style>\n<table border=\"1\" class=\"dataframe\">\n  <thead>\n    <tr style=\"text-align: right;\">\n      <th></th>\n      <th>0</th>\n      <th>1</th>\n      <th>2</th>\n      <th>3</th>\n      <th>4</th>\n      <th>5</th>\n      <th>6</th>\n      <th>7</th>\n      <th>8</th>\n      <th>9</th>\n      <th>10</th>\n      <th>11</th>\n      <th>12</th>\n      <th>13</th>\n      <th>country_value</th>\n      <th>date</th>\n      <th>countryiso3code</th>\n    </tr>\n  </thead>\n  <tbody>\n    <tr>\n      <th>0</th>\n      <td>1.031453e+12</td>\n      <td>-0.929015</td>\n      <td>7.466000</td>\n      <td>162.835400</td>\n      <td>48.880000</td>\n      <td>120.800000</td>\n      <td>1293.788333</td>\n      <td>7.417974</td>\n      <td>50.331000</td>\n      <td>4.476954</td>\n      <td>12412311.0</td>\n      <td>8627.147190</td>\n      <td>10.400000</td>\n      <td>35.500000</td>\n      <td>Afghanistan</td>\n      <td>1990</td>\n      <td>AFG</td>\n    </tr>\n    <tr>\n      <th>1</th>\n      <td>-2.167522e+11</td>\n      <td>-0.268808</td>\n      <td>7.479000</td>\n      <td>163.382200</td>\n      <td>48.763000</td>\n      <td>117.100000</td>\n      <td>1182.697400</td>\n      <td>9.270762</td>\n      <td>50.999000</td>\n      <td>6.900124</td>\n      <td>13299016.0</td>\n      <td>11442.608308</td>\n      <td>10.700000</td>\n      <td>35.500000</td>\n      <td>Afghanistan</td>\n      <td>1991</td>\n      <td>AFG</td>\n    </tr>\n    <tr>\n      <th>2</th>\n      <td>-1.003638e+12</td>\n      <td>0.183647</td>\n      <td>7.502000</td>\n      <td>163.929000</td>\n      <td>48.709000</td>\n      <td>113.500000</td>\n      <td>1112.294574</td>\n      <td>10.601289</td>\n      <td>51.641000</td>\n      <td>8.546107</td>\n      <td>14485543.0</td>\n      <td>13365.602001</td>\n      <td>11.000000</td>\n      <td>35.600000</td>\n      <td>Afghanistan</td>\n      <td>1992</td>\n      <td>AFG</td>\n    </tr>\n    <tr>\n      <th>3</th>\n      <td>-9.801795e+11</td>\n      <td>0.230576</td>\n      <td>7.535000</td>\n      <td>164.188800</td>\n      <td>48.717000</td>\n      <td>110.100000</td>\n      <td>1120.202445</td>\n      <td>10.971836</td>\n      <td>52.256000</td>\n      <td>8.790897</td>\n      <td>15816601.0</td>\n      <td>13780.724758</td>\n      <td>11.400000</td>\n      <td>35.600000</td>\n      <td>Afghanistan</td>\n      <td>1993</td>\n      <td>AFG</td>\n    </tr>\n    <tr>\n      <th>4</th>\n      <td>-1.557734e+11</td>\n      <td>-0.108478</td>\n      <td>7.572000</td>\n      <td>164.448600</td>\n      <td>48.770000</td>\n      <td>106.900000</td>\n      <td>1199.297876</td>\n      <td>10.400813</td>\n      <td>52.842000</td>\n      <td>7.659796</td>\n      <td>17075728.0</td>\n      <td>12620.385434</td>\n      <td>11.700000</td>\n      <td>35.700000</td>\n      <td>Afghanistan</td>\n      <td>1994</td>\n      <td>AFG</td>\n    </tr>\n    <tr>\n      <th>...</th>\n      <td>...</td>\n      <td>...</td>\n      <td>...</td>\n      <td>...</td>\n      <td>...</td>\n      <td>...</td>\n      <td>...</td>\n      <td>...</td>\n      <td>...</td>\n      <td>...</td>\n      <td>...</td>\n      <td>...</td>\n      <td>...</td>\n      <td>...</td>\n      <td>...</td>\n      <td>...</td>\n      <td>...</td>\n    </tr>\n    <tr>\n      <th>955</th>\n      <td>1.947962e+13</td>\n      <td>15.900000</td>\n      <td>1.765500</td>\n      <td>19.860000</td>\n      <td>11.800000</td>\n      <td>5.700000</td>\n      <td>10103.091797</td>\n      <td>16.805836</td>\n      <td>78.539024</td>\n      <td>0.632644</td>\n      <td>325122128.0</td>\n      <td>59914.777797</td>\n      <td>53.114353</td>\n      <td>31.600000</td>\n      <td>United States</td>\n      <td>2017</td>\n      <td>USA</td>\n    </tr>\n    <tr>\n      <th>956</th>\n      <td>2.052716e+13</td>\n      <td>15.700000</td>\n      <td>1.729500</td>\n      <td>18.556200</td>\n      <td>11.600000</td>\n      <td>5.600000</td>\n      <td>10515.323242</td>\n      <td>16.687105</td>\n      <td>78.639024</td>\n      <td>0.526435</td>\n      <td>326838199.0</td>\n      <td>62805.253758</td>\n      <td>53.298648</td>\n      <td>31.600000</td>\n      <td>United States</td>\n      <td>2018</td>\n      <td>USA</td>\n    </tr>\n    <tr>\n      <th>957</th>\n      <td>2.137257e+13</td>\n      <td>16.100000</td>\n      <td>1.706000</td>\n      <td>17.252400</td>\n      <td>11.400000</td>\n      <td>5.500000</td>\n      <td>10921.012695</td>\n      <td>16.767063</td>\n      <td>78.787805</td>\n      <td>0.455381</td>\n      <td>328329953.0</td>\n      <td>65094.799429</td>\n      <td>52.798797</td>\n      <td>31.600000</td>\n      <td>United States</td>\n      <td>2019</td>\n      <td>USA</td>\n    </tr>\n    <tr>\n      <th>958</th>\n      <td>2.089374e+13</td>\n      <td>16.584004</td>\n      <td>1.637500</td>\n      <td>15.948600</td>\n      <td>10.900000</td>\n      <td>5.400000</td>\n      <td>9767.538183</td>\n      <td>17.757916</td>\n      <td>77.280488</td>\n      <td>0.961201</td>\n      <td>331501080.0</td>\n      <td>63027.679527</td>\n      <td>66.148737</td>\n      <td>31.801144</td>\n      <td>United States</td>\n      <td>2020</td>\n      <td>USA</td>\n    </tr>\n    <tr>\n      <th>959</th>\n      <td>2.299610e+13</td>\n      <td>14.304306</td>\n      <td>2.652353</td>\n      <td>33.675445</td>\n      <td>13.650302</td>\n      <td>6.137115</td>\n      <td>10703.104876</td>\n      <td>19.698022</td>\n      <td>77.906939</td>\n      <td>0.118380</td>\n      <td>331893745.0</td>\n      <td>69287.536588</td>\n      <td>69.842676</td>\n      <td>32.080098</td>\n      <td>United States</td>\n      <td>2021</td>\n      <td>USA</td>\n    </tr>\n  </tbody>\n</table>\n<p>960 rows × 17 columns</p>\n</div>"
          },
          "metadata": {}
        }
      ],
      "execution_count": 17,
      "metadata": {
        "jupyter": {
          "source_hidden": false,
          "outputs_hidden": false
        },
        "nteract": {
          "transient": {
            "deleting": false
          }
        },
        "gather": {
          "logged": 1666820352228
        }
      }
    },
    {
      "cell_type": "markdown",
      "source": [
        "**Renombrando las columnas de indicadores**"
      ],
      "metadata": {
        "nteract": {
          "transient": {
            "deleting": false
          }
        }
      }
    },
    {
      "cell_type": "code",
      "source": [
        "df_rename=X.rename(columns={0: \"NY.GDP.MKTP.CD\", 1: \"SH.STA.SUIC.P5\",2:\"SP.DYN.TFRT.IN\",3:\"SP.ADO.TFRT\",4:\"SP.DYN.CBRT.IN\",5:\"SP.DYN.IMRT.IN\",6:\"SH.XPD.CHEX.PC.CD\",7:\"SH.XPD.CHEX.GD.ZS\",8:\"SP.DYN.LE00.IN\",9:\"SP.POP.GROW\",10:\"SP.POP.TOTL\",11:\"NY.GDP.PCAP.CD\",12:\"ncd_bmi_25a\",13:\"ncd_hyp_prevalence_a\"})\n"
      ],
      "outputs": [],
      "execution_count": 19,
      "metadata": {
        "jupyter": {
          "source_hidden": false,
          "outputs_hidden": false
        },
        "nteract": {
          "transient": {
            "deleting": false
          }
        },
        "gather": {
          "logged": 1666820402246
        }
      }
    },
    {
      "cell_type": "code",
      "source": [
        "df_rename"
      ],
      "outputs": [
        {
          "output_type": "execute_result",
          "execution_count": 20,
          "data": {
            "text/plain": "     NY.GDP.MKTP.CD  SH.STA.SUIC.P5  SP.DYN.TFRT.IN  SP.ADO.TFRT  \\\n0      1.031453e+12       -0.929015        7.466000   162.835400   \n1     -2.167522e+11       -0.268808        7.479000   163.382200   \n2     -1.003638e+12        0.183647        7.502000   163.929000   \n3     -9.801795e+11        0.230576        7.535000   164.188800   \n4     -1.557734e+11       -0.108478        7.572000   164.448600   \n..              ...             ...             ...          ...   \n955    1.947962e+13       15.900000        1.765500    19.860000   \n956    2.052716e+13       15.700000        1.729500    18.556200   \n957    2.137257e+13       16.100000        1.706000    17.252400   \n958    2.089374e+13       16.584004        1.637500    15.948600   \n959    2.299610e+13       14.304306        2.652353    33.675445   \n\n     SP.DYN.CBRT.IN  SP.DYN.IMRT.IN  SH.XPD.CHEX.PC.CD  SH.XPD.CHEX.GD.ZS  \\\n0         48.880000      120.800000        1293.788333           7.417974   \n1         48.763000      117.100000        1182.697400           9.270762   \n2         48.709000      113.500000        1112.294574          10.601289   \n3         48.717000      110.100000        1120.202445          10.971836   \n4         48.770000      106.900000        1199.297876          10.400813   \n..              ...             ...                ...                ...   \n955       11.800000        5.700000       10103.091797          16.805836   \n956       11.600000        5.600000       10515.323242          16.687105   \n957       11.400000        5.500000       10921.012695          16.767063   \n958       10.900000        5.400000        9767.538183          17.757916   \n959       13.650302        6.137115       10703.104876          19.698022   \n\n     SP.DYN.LE00.IN  SP.POP.GROW  SP.POP.TOTL  NY.GDP.PCAP.CD  ncd_bmi_25a  \\\n0         50.331000     4.476954   12412311.0     8627.147190    10.400000   \n1         50.999000     6.900124   13299016.0    11442.608308    10.700000   \n2         51.641000     8.546107   14485543.0    13365.602001    11.000000   \n3         52.256000     8.790897   15816601.0    13780.724758    11.400000   \n4         52.842000     7.659796   17075728.0    12620.385434    11.700000   \n..              ...          ...          ...             ...          ...   \n955       78.539024     0.632644  325122128.0    59914.777797    53.114353   \n956       78.639024     0.526435  326838199.0    62805.253758    53.298648   \n957       78.787805     0.455381  328329953.0    65094.799429    52.798797   \n958       77.280488     0.961201  331501080.0    63027.679527    66.148737   \n959       77.906939     0.118380  331893745.0    69287.536588    69.842676   \n\n     ncd_hyp_prevalence_a  country_value  date countryiso3code  \n0               35.500000    Afghanistan  1990             AFG  \n1               35.500000    Afghanistan  1991             AFG  \n2               35.600000    Afghanistan  1992             AFG  \n3               35.600000    Afghanistan  1993             AFG  \n4               35.700000    Afghanistan  1994             AFG  \n..                    ...            ...   ...             ...  \n955             31.600000  United States  2017             USA  \n956             31.600000  United States  2018             USA  \n957             31.600000  United States  2019             USA  \n958             31.801144  United States  2020             USA  \n959             32.080098  United States  2021             USA  \n\n[960 rows x 17 columns]",
            "text/html": "<div>\n<style scoped>\n    .dataframe tbody tr th:only-of-type {\n        vertical-align: middle;\n    }\n\n    .dataframe tbody tr th {\n        vertical-align: top;\n    }\n\n    .dataframe thead th {\n        text-align: right;\n    }\n</style>\n<table border=\"1\" class=\"dataframe\">\n  <thead>\n    <tr style=\"text-align: right;\">\n      <th></th>\n      <th>NY.GDP.MKTP.CD</th>\n      <th>SH.STA.SUIC.P5</th>\n      <th>SP.DYN.TFRT.IN</th>\n      <th>SP.ADO.TFRT</th>\n      <th>SP.DYN.CBRT.IN</th>\n      <th>SP.DYN.IMRT.IN</th>\n      <th>SH.XPD.CHEX.PC.CD</th>\n      <th>SH.XPD.CHEX.GD.ZS</th>\n      <th>SP.DYN.LE00.IN</th>\n      <th>SP.POP.GROW</th>\n      <th>SP.POP.TOTL</th>\n      <th>NY.GDP.PCAP.CD</th>\n      <th>ncd_bmi_25a</th>\n      <th>ncd_hyp_prevalence_a</th>\n      <th>country_value</th>\n      <th>date</th>\n      <th>countryiso3code</th>\n    </tr>\n  </thead>\n  <tbody>\n    <tr>\n      <th>0</th>\n      <td>1.031453e+12</td>\n      <td>-0.929015</td>\n      <td>7.466000</td>\n      <td>162.835400</td>\n      <td>48.880000</td>\n      <td>120.800000</td>\n      <td>1293.788333</td>\n      <td>7.417974</td>\n      <td>50.331000</td>\n      <td>4.476954</td>\n      <td>12412311.0</td>\n      <td>8627.147190</td>\n      <td>10.400000</td>\n      <td>35.500000</td>\n      <td>Afghanistan</td>\n      <td>1990</td>\n      <td>AFG</td>\n    </tr>\n    <tr>\n      <th>1</th>\n      <td>-2.167522e+11</td>\n      <td>-0.268808</td>\n      <td>7.479000</td>\n      <td>163.382200</td>\n      <td>48.763000</td>\n      <td>117.100000</td>\n      <td>1182.697400</td>\n      <td>9.270762</td>\n      <td>50.999000</td>\n      <td>6.900124</td>\n      <td>13299016.0</td>\n      <td>11442.608308</td>\n      <td>10.700000</td>\n      <td>35.500000</td>\n      <td>Afghanistan</td>\n      <td>1991</td>\n      <td>AFG</td>\n    </tr>\n    <tr>\n      <th>2</th>\n      <td>-1.003638e+12</td>\n      <td>0.183647</td>\n      <td>7.502000</td>\n      <td>163.929000</td>\n      <td>48.709000</td>\n      <td>113.500000</td>\n      <td>1112.294574</td>\n      <td>10.601289</td>\n      <td>51.641000</td>\n      <td>8.546107</td>\n      <td>14485543.0</td>\n      <td>13365.602001</td>\n      <td>11.000000</td>\n      <td>35.600000</td>\n      <td>Afghanistan</td>\n      <td>1992</td>\n      <td>AFG</td>\n    </tr>\n    <tr>\n      <th>3</th>\n      <td>-9.801795e+11</td>\n      <td>0.230576</td>\n      <td>7.535000</td>\n      <td>164.188800</td>\n      <td>48.717000</td>\n      <td>110.100000</td>\n      <td>1120.202445</td>\n      <td>10.971836</td>\n      <td>52.256000</td>\n      <td>8.790897</td>\n      <td>15816601.0</td>\n      <td>13780.724758</td>\n      <td>11.400000</td>\n      <td>35.600000</td>\n      <td>Afghanistan</td>\n      <td>1993</td>\n      <td>AFG</td>\n    </tr>\n    <tr>\n      <th>4</th>\n      <td>-1.557734e+11</td>\n      <td>-0.108478</td>\n      <td>7.572000</td>\n      <td>164.448600</td>\n      <td>48.770000</td>\n      <td>106.900000</td>\n      <td>1199.297876</td>\n      <td>10.400813</td>\n      <td>52.842000</td>\n      <td>7.659796</td>\n      <td>17075728.0</td>\n      <td>12620.385434</td>\n      <td>11.700000</td>\n      <td>35.700000</td>\n      <td>Afghanistan</td>\n      <td>1994</td>\n      <td>AFG</td>\n    </tr>\n    <tr>\n      <th>...</th>\n      <td>...</td>\n      <td>...</td>\n      <td>...</td>\n      <td>...</td>\n      <td>...</td>\n      <td>...</td>\n      <td>...</td>\n      <td>...</td>\n      <td>...</td>\n      <td>...</td>\n      <td>...</td>\n      <td>...</td>\n      <td>...</td>\n      <td>...</td>\n      <td>...</td>\n      <td>...</td>\n      <td>...</td>\n    </tr>\n    <tr>\n      <th>955</th>\n      <td>1.947962e+13</td>\n      <td>15.900000</td>\n      <td>1.765500</td>\n      <td>19.860000</td>\n      <td>11.800000</td>\n      <td>5.700000</td>\n      <td>10103.091797</td>\n      <td>16.805836</td>\n      <td>78.539024</td>\n      <td>0.632644</td>\n      <td>325122128.0</td>\n      <td>59914.777797</td>\n      <td>53.114353</td>\n      <td>31.600000</td>\n      <td>United States</td>\n      <td>2017</td>\n      <td>USA</td>\n    </tr>\n    <tr>\n      <th>956</th>\n      <td>2.052716e+13</td>\n      <td>15.700000</td>\n      <td>1.729500</td>\n      <td>18.556200</td>\n      <td>11.600000</td>\n      <td>5.600000</td>\n      <td>10515.323242</td>\n      <td>16.687105</td>\n      <td>78.639024</td>\n      <td>0.526435</td>\n      <td>326838199.0</td>\n      <td>62805.253758</td>\n      <td>53.298648</td>\n      <td>31.600000</td>\n      <td>United States</td>\n      <td>2018</td>\n      <td>USA</td>\n    </tr>\n    <tr>\n      <th>957</th>\n      <td>2.137257e+13</td>\n      <td>16.100000</td>\n      <td>1.706000</td>\n      <td>17.252400</td>\n      <td>11.400000</td>\n      <td>5.500000</td>\n      <td>10921.012695</td>\n      <td>16.767063</td>\n      <td>78.787805</td>\n      <td>0.455381</td>\n      <td>328329953.0</td>\n      <td>65094.799429</td>\n      <td>52.798797</td>\n      <td>31.600000</td>\n      <td>United States</td>\n      <td>2019</td>\n      <td>USA</td>\n    </tr>\n    <tr>\n      <th>958</th>\n      <td>2.089374e+13</td>\n      <td>16.584004</td>\n      <td>1.637500</td>\n      <td>15.948600</td>\n      <td>10.900000</td>\n      <td>5.400000</td>\n      <td>9767.538183</td>\n      <td>17.757916</td>\n      <td>77.280488</td>\n      <td>0.961201</td>\n      <td>331501080.0</td>\n      <td>63027.679527</td>\n      <td>66.148737</td>\n      <td>31.801144</td>\n      <td>United States</td>\n      <td>2020</td>\n      <td>USA</td>\n    </tr>\n    <tr>\n      <th>959</th>\n      <td>2.299610e+13</td>\n      <td>14.304306</td>\n      <td>2.652353</td>\n      <td>33.675445</td>\n      <td>13.650302</td>\n      <td>6.137115</td>\n      <td>10703.104876</td>\n      <td>19.698022</td>\n      <td>77.906939</td>\n      <td>0.118380</td>\n      <td>331893745.0</td>\n      <td>69287.536588</td>\n      <td>69.842676</td>\n      <td>32.080098</td>\n      <td>United States</td>\n      <td>2021</td>\n      <td>USA</td>\n    </tr>\n  </tbody>\n</table>\n<p>960 rows × 17 columns</p>\n</div>"
          },
          "metadata": {}
        }
      ],
      "execution_count": 20,
      "metadata": {
        "jupyter": {
          "source_hidden": false,
          "outputs_hidden": false
        },
        "nteract": {
          "transient": {
            "deleting": false
          }
        },
        "gather": {
          "logged": 1666820403453
        }
      }
    },
    {
      "cell_type": "markdown",
      "source": [
        "**Removiendo las filas de año 2021**"
      ],
      "metadata": {
        "nteract": {
          "transient": {
            "deleting": false
          }
        }
      }
    },
    {
      "cell_type": "code",
      "source": [
        "df2=df_rename.query(\"date != '2021'\")"
      ],
      "outputs": [],
      "execution_count": 21,
      "metadata": {
        "jupyter": {
          "source_hidden": false,
          "outputs_hidden": false
        },
        "nteract": {
          "transient": {
            "deleting": false
          }
        },
        "gather": {
          "logged": 1666820405330
        }
      }
    },
    {
      "cell_type": "code",
      "source": [
        "df2"
      ],
      "outputs": [
        {
          "output_type": "execute_result",
          "execution_count": 22,
          "data": {
            "text/plain": "     NY.GDP.MKTP.CD  SH.STA.SUIC.P5  SP.DYN.TFRT.IN  SP.ADO.TFRT  \\\n0      1.031453e+12       -0.929015          7.4660     162.8354   \n1     -2.167522e+11       -0.268808          7.4790     163.3822   \n2     -1.003638e+12        0.183647          7.5020     163.9290   \n3     -9.801795e+11        0.230576          7.5350     164.1888   \n4     -1.557734e+11       -0.108478          7.5720     164.4486   \n..              ...             ...             ...          ...   \n954    1.869511e+13       15.100000          1.8205      21.4754   \n955    1.947962e+13       15.900000          1.7655      19.8600   \n956    2.052716e+13       15.700000          1.7295      18.5562   \n957    2.137257e+13       16.100000          1.7060      17.2524   \n958    2.089374e+13       16.584004          1.6375      15.9486   \n\n     SP.DYN.CBRT.IN  SP.DYN.IMRT.IN  SH.XPD.CHEX.PC.CD  SH.XPD.CHEX.GD.ZS  \\\n0            48.880           120.8        1293.788333           7.417974   \n1            48.763           117.1        1182.697400           9.270762   \n2            48.709           113.5        1112.294574          10.601289   \n3            48.717           110.1        1120.202445          10.971836   \n4            48.770           106.9        1199.297876          10.400813   \n..              ...             ...                ...                ...   \n954          12.200             5.7        9775.000000          16.844324   \n955          11.800             5.7       10103.091797          16.805836   \n956          11.600             5.6       10515.323242          16.687105   \n957          11.400             5.5       10921.012695          16.767063   \n958          10.900             5.4        9767.538183          17.757916   \n\n     SP.DYN.LE00.IN  SP.POP.GROW  SP.POP.TOTL  NY.GDP.PCAP.CD  ncd_bmi_25a  \\\n0         50.331000     4.476954   12412311.0     8627.147190    10.400000   \n1         50.999000     6.900124   13299016.0    11442.608308    10.700000   \n2         51.641000     8.546107   14485543.0    13365.602001    11.000000   \n3         52.256000     8.790897   15816601.0    13780.724758    11.400000   \n4         52.842000     7.659796   17075728.0    12620.385434    11.700000   \n..              ...          ...          ...             ...          ...   \n954       78.539024     0.724676  323071755.0    57866.744934    67.900000   \n955       78.539024     0.632644  325122128.0    59914.777797    53.114353   \n956       78.639024     0.526435  326838199.0    62805.253758    53.298648   \n957       78.787805     0.455381  328329953.0    65094.799429    52.798797   \n958       77.280488     0.961201  331501080.0    63027.679527    66.148737   \n\n     ncd_hyp_prevalence_a  country_value  date countryiso3code  \n0               35.500000    Afghanistan  1990             AFG  \n1               35.500000    Afghanistan  1991             AFG  \n2               35.600000    Afghanistan  1992             AFG  \n3               35.600000    Afghanistan  1993             AFG  \n4               35.700000    Afghanistan  1994             AFG  \n..                    ...            ...   ...             ...  \n954             31.600000  United States  2016             USA  \n955             31.600000  United States  2017             USA  \n956             31.600000  United States  2018             USA  \n957             31.600000  United States  2019             USA  \n958             31.801144  United States  2020             USA  \n\n[930 rows x 17 columns]",
            "text/html": "<div>\n<style scoped>\n    .dataframe tbody tr th:only-of-type {\n        vertical-align: middle;\n    }\n\n    .dataframe tbody tr th {\n        vertical-align: top;\n    }\n\n    .dataframe thead th {\n        text-align: right;\n    }\n</style>\n<table border=\"1\" class=\"dataframe\">\n  <thead>\n    <tr style=\"text-align: right;\">\n      <th></th>\n      <th>NY.GDP.MKTP.CD</th>\n      <th>SH.STA.SUIC.P5</th>\n      <th>SP.DYN.TFRT.IN</th>\n      <th>SP.ADO.TFRT</th>\n      <th>SP.DYN.CBRT.IN</th>\n      <th>SP.DYN.IMRT.IN</th>\n      <th>SH.XPD.CHEX.PC.CD</th>\n      <th>SH.XPD.CHEX.GD.ZS</th>\n      <th>SP.DYN.LE00.IN</th>\n      <th>SP.POP.GROW</th>\n      <th>SP.POP.TOTL</th>\n      <th>NY.GDP.PCAP.CD</th>\n      <th>ncd_bmi_25a</th>\n      <th>ncd_hyp_prevalence_a</th>\n      <th>country_value</th>\n      <th>date</th>\n      <th>countryiso3code</th>\n    </tr>\n  </thead>\n  <tbody>\n    <tr>\n      <th>0</th>\n      <td>1.031453e+12</td>\n      <td>-0.929015</td>\n      <td>7.4660</td>\n      <td>162.8354</td>\n      <td>48.880</td>\n      <td>120.8</td>\n      <td>1293.788333</td>\n      <td>7.417974</td>\n      <td>50.331000</td>\n      <td>4.476954</td>\n      <td>12412311.0</td>\n      <td>8627.147190</td>\n      <td>10.400000</td>\n      <td>35.500000</td>\n      <td>Afghanistan</td>\n      <td>1990</td>\n      <td>AFG</td>\n    </tr>\n    <tr>\n      <th>1</th>\n      <td>-2.167522e+11</td>\n      <td>-0.268808</td>\n      <td>7.4790</td>\n      <td>163.3822</td>\n      <td>48.763</td>\n      <td>117.1</td>\n      <td>1182.697400</td>\n      <td>9.270762</td>\n      <td>50.999000</td>\n      <td>6.900124</td>\n      <td>13299016.0</td>\n      <td>11442.608308</td>\n      <td>10.700000</td>\n      <td>35.500000</td>\n      <td>Afghanistan</td>\n      <td>1991</td>\n      <td>AFG</td>\n    </tr>\n    <tr>\n      <th>2</th>\n      <td>-1.003638e+12</td>\n      <td>0.183647</td>\n      <td>7.5020</td>\n      <td>163.9290</td>\n      <td>48.709</td>\n      <td>113.5</td>\n      <td>1112.294574</td>\n      <td>10.601289</td>\n      <td>51.641000</td>\n      <td>8.546107</td>\n      <td>14485543.0</td>\n      <td>13365.602001</td>\n      <td>11.000000</td>\n      <td>35.600000</td>\n      <td>Afghanistan</td>\n      <td>1992</td>\n      <td>AFG</td>\n    </tr>\n    <tr>\n      <th>3</th>\n      <td>-9.801795e+11</td>\n      <td>0.230576</td>\n      <td>7.5350</td>\n      <td>164.1888</td>\n      <td>48.717</td>\n      <td>110.1</td>\n      <td>1120.202445</td>\n      <td>10.971836</td>\n      <td>52.256000</td>\n      <td>8.790897</td>\n      <td>15816601.0</td>\n      <td>13780.724758</td>\n      <td>11.400000</td>\n      <td>35.600000</td>\n      <td>Afghanistan</td>\n      <td>1993</td>\n      <td>AFG</td>\n    </tr>\n    <tr>\n      <th>4</th>\n      <td>-1.557734e+11</td>\n      <td>-0.108478</td>\n      <td>7.5720</td>\n      <td>164.4486</td>\n      <td>48.770</td>\n      <td>106.9</td>\n      <td>1199.297876</td>\n      <td>10.400813</td>\n      <td>52.842000</td>\n      <td>7.659796</td>\n      <td>17075728.0</td>\n      <td>12620.385434</td>\n      <td>11.700000</td>\n      <td>35.700000</td>\n      <td>Afghanistan</td>\n      <td>1994</td>\n      <td>AFG</td>\n    </tr>\n    <tr>\n      <th>...</th>\n      <td>...</td>\n      <td>...</td>\n      <td>...</td>\n      <td>...</td>\n      <td>...</td>\n      <td>...</td>\n      <td>...</td>\n      <td>...</td>\n      <td>...</td>\n      <td>...</td>\n      <td>...</td>\n      <td>...</td>\n      <td>...</td>\n      <td>...</td>\n      <td>...</td>\n      <td>...</td>\n      <td>...</td>\n    </tr>\n    <tr>\n      <th>954</th>\n      <td>1.869511e+13</td>\n      <td>15.100000</td>\n      <td>1.8205</td>\n      <td>21.4754</td>\n      <td>12.200</td>\n      <td>5.7</td>\n      <td>9775.000000</td>\n      <td>16.844324</td>\n      <td>78.539024</td>\n      <td>0.724676</td>\n      <td>323071755.0</td>\n      <td>57866.744934</td>\n      <td>67.900000</td>\n      <td>31.600000</td>\n      <td>United States</td>\n      <td>2016</td>\n      <td>USA</td>\n    </tr>\n    <tr>\n      <th>955</th>\n      <td>1.947962e+13</td>\n      <td>15.900000</td>\n      <td>1.7655</td>\n      <td>19.8600</td>\n      <td>11.800</td>\n      <td>5.7</td>\n      <td>10103.091797</td>\n      <td>16.805836</td>\n      <td>78.539024</td>\n      <td>0.632644</td>\n      <td>325122128.0</td>\n      <td>59914.777797</td>\n      <td>53.114353</td>\n      <td>31.600000</td>\n      <td>United States</td>\n      <td>2017</td>\n      <td>USA</td>\n    </tr>\n    <tr>\n      <th>956</th>\n      <td>2.052716e+13</td>\n      <td>15.700000</td>\n      <td>1.7295</td>\n      <td>18.5562</td>\n      <td>11.600</td>\n      <td>5.6</td>\n      <td>10515.323242</td>\n      <td>16.687105</td>\n      <td>78.639024</td>\n      <td>0.526435</td>\n      <td>326838199.0</td>\n      <td>62805.253758</td>\n      <td>53.298648</td>\n      <td>31.600000</td>\n      <td>United States</td>\n      <td>2018</td>\n      <td>USA</td>\n    </tr>\n    <tr>\n      <th>957</th>\n      <td>2.137257e+13</td>\n      <td>16.100000</td>\n      <td>1.7060</td>\n      <td>17.2524</td>\n      <td>11.400</td>\n      <td>5.5</td>\n      <td>10921.012695</td>\n      <td>16.767063</td>\n      <td>78.787805</td>\n      <td>0.455381</td>\n      <td>328329953.0</td>\n      <td>65094.799429</td>\n      <td>52.798797</td>\n      <td>31.600000</td>\n      <td>United States</td>\n      <td>2019</td>\n      <td>USA</td>\n    </tr>\n    <tr>\n      <th>958</th>\n      <td>2.089374e+13</td>\n      <td>16.584004</td>\n      <td>1.6375</td>\n      <td>15.9486</td>\n      <td>10.900</td>\n      <td>5.4</td>\n      <td>9767.538183</td>\n      <td>17.757916</td>\n      <td>77.280488</td>\n      <td>0.961201</td>\n      <td>331501080.0</td>\n      <td>63027.679527</td>\n      <td>66.148737</td>\n      <td>31.801144</td>\n      <td>United States</td>\n      <td>2020</td>\n      <td>USA</td>\n    </tr>\n  </tbody>\n</table>\n<p>930 rows × 17 columns</p>\n</div>"
          },
          "metadata": {}
        }
      ],
      "execution_count": 22,
      "metadata": {
        "jupyter": {
          "source_hidden": false,
          "outputs_hidden": false
        },
        "nteract": {
          "transient": {
            "deleting": false
          }
        },
        "gather": {
          "logged": 1666820410257
        }
      }
    },
    {
      "cell_type": "markdown",
      "source": [
        "**Guardando el resultado en el Data Lake**"
      ],
      "metadata": {
        "nteract": {
          "transient": {
            "deleting": false
          }
        }
      }
    },
    {
      "cell_type": "code",
      "source": [
        "df2.to_csv('https://storagehenrypf.blob.core.windows.net/henrypf/df_final_MICE.csv',index=False)"
      ],
      "outputs": [],
      "execution_count": 24,
      "metadata": {
        "jupyter": {
          "source_hidden": false,
          "outputs_hidden": false
        },
        "nteract": {
          "transient": {
            "deleting": false
          }
        },
        "gather": {
          "logged": 1666820693318
        }
      }
    }
  ],
  "metadata": {
    "kernelspec": {
      "name": "python38-azureml",
      "language": "python",
      "display_name": "Python 3.8 - AzureML"
    },
    "language_info": {
      "name": "python",
      "version": "3.8.5",
      "mimetype": "text/x-python",
      "codemirror_mode": {
        "name": "ipython",
        "version": 3
      },
      "pygments_lexer": "ipython3",
      "nbconvert_exporter": "python",
      "file_extension": ".py"
    },
    "kernel_info": {
      "name": "python38-azureml"
    },
    "microsoft": {
      "host": {
        "AzureML": {
          "notebookHasBeenCompleted": true
        }
      }
    },
    "nteract": {
      "version": "nteract-front-end@1.0.0"
    }
  },
  "nbformat": 4,
  "nbformat_minor": 2
}