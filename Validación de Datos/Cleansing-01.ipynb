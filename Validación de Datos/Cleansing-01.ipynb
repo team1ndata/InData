{
  "cells": [
    {
      "cell_type": "code",
      "source": [
        "import pandas as pd"
      ],
      "outputs": [],
      "execution_count": 1,
      "metadata": {
        "gather": {
          "logged": 1666784527950
        }
      }
    },
    {
      "cell_type": "code",
      "source": [
        "df = pd.read_csv('https://storagehenrypf.blob.core.windows.net/henrypf/DWH.Maestra_Indicadores.csv')\n"
      ],
      "outputs": [],
      "execution_count": 3,
      "metadata": {
        "jupyter": {
          "source_hidden": false,
          "outputs_hidden": false
        },
        "nteract": {
          "transient": {
            "deleting": false
          }
        },
        "gather": {
          "logged": 1666784531961
        }
      }
    },
    {
      "cell_type": "code",
      "source": [
        "df_sort=df.sort_values(by=['country_value','date'])\n",
        "df_sort"
      ],
      "outputs": [
        {
          "output_type": "execute_result",
          "execution_count": 4,
          "data": {
            "text/plain": "     country_value  date countryiso3code  NY.GDP.MKTP.CD  SH.STA.SUIC.P5  \\\n0      Afghanistan  1990             AFG             NaN             NaN   \n30     Afghanistan  1991             AFG             NaN             NaN   \n60     Afghanistan  1992             AFG             NaN             NaN   \n90     Afghanistan  1993             AFG             NaN             NaN   \n120    Afghanistan  1994             AFG             NaN             NaN   \n..             ...   ...             ...             ...             ...   \n808  United States  2016             USA    1.869511e+13            15.1   \n838  United States  2017             USA    1.947962e+13            15.9   \n868  United States  2018             USA    2.052716e+13            15.7   \n898  United States  2019             USA    2.137257e+13            16.1   \n916  United States  2020             USA    2.089374e+13             NaN   \n\n     SP.DYN.TFRT.IN  SP.ADO.TFRT  SP.DYN.CBRT.IN  SP.DYN.IMRT.IN  \\\n0            7.4660     162.8354          48.880           120.8   \n30           7.4790     163.3822          48.763           117.1   \n60           7.5020     163.9290          48.709           113.5   \n90           7.5350     164.1888          48.717           110.1   \n120          7.5720     164.4486          48.770           106.9   \n..              ...          ...             ...             ...   \n808          1.8205      21.4754          12.200             5.7   \n838          1.7655      19.8600          11.800             5.7   \n868          1.7295      18.5562          11.600             5.6   \n898          1.7060      17.2524          11.400             5.5   \n916          1.6375      15.9486          10.900             5.4   \n\n     SH.XPD.CHEX.PC.CD  SH.XPD.CHEX.GD.ZS  SP.DYN.LE00.IN  SP.POP.GROW  \\\n0                  NaN                NaN       50.331000     4.476954   \n30                 NaN                NaN       50.999000     6.900124   \n60                 NaN                NaN       51.641000     8.546107   \n90                 NaN                NaN       52.256000     8.790897   \n120                NaN                NaN       52.842000     7.659796   \n..                 ...                ...             ...          ...   \n808        9775.000000          16.844324       78.539024     0.724676   \n838       10103.091797          16.805836       78.539024     0.632644   \n868       10515.323242          16.687105       78.639024     0.526435   \n898       10921.012695          16.767063       78.787805     0.455381   \n916                NaN                NaN       77.280488     0.961201   \n\n     SP.POP.TOTL  NY.GDP.PCAP.CD  ncd_bmi_25a  ncd_hyp_prevalence_a  \n0       12412311             NaN         10.4                  35.5  \n30      13299016             NaN         10.7                  35.5  \n60      14485543             NaN         11.0                  35.6  \n90      15816601             NaN         11.4                  35.6  \n120     17075728             NaN         11.7                  35.7  \n..           ...             ...          ...                   ...  \n808    323071755    57866.744934         67.9                  31.6  \n838    325122128    59914.777797          NaN                  31.6  \n868    326838199    62805.253758          NaN                  31.6  \n898    328329953    65094.799429          NaN                  31.6  \n916    331501080    63027.679527          NaN                   NaN  \n\n[930 rows x 17 columns]",
            "text/html": "<div>\n<style scoped>\n    .dataframe tbody tr th:only-of-type {\n        vertical-align: middle;\n    }\n\n    .dataframe tbody tr th {\n        vertical-align: top;\n    }\n\n    .dataframe thead th {\n        text-align: right;\n    }\n</style>\n<table border=\"1\" class=\"dataframe\">\n  <thead>\n    <tr style=\"text-align: right;\">\n      <th></th>\n      <th>country_value</th>\n      <th>date</th>\n      <th>countryiso3code</th>\n      <th>NY.GDP.MKTP.CD</th>\n      <th>SH.STA.SUIC.P5</th>\n      <th>SP.DYN.TFRT.IN</th>\n      <th>SP.ADO.TFRT</th>\n      <th>SP.DYN.CBRT.IN</th>\n      <th>SP.DYN.IMRT.IN</th>\n      <th>SH.XPD.CHEX.PC.CD</th>\n      <th>SH.XPD.CHEX.GD.ZS</th>\n      <th>SP.DYN.LE00.IN</th>\n      <th>SP.POP.GROW</th>\n      <th>SP.POP.TOTL</th>\n      <th>NY.GDP.PCAP.CD</th>\n      <th>ncd_bmi_25a</th>\n      <th>ncd_hyp_prevalence_a</th>\n    </tr>\n  </thead>\n  <tbody>\n    <tr>\n      <th>0</th>\n      <td>Afghanistan</td>\n      <td>1990</td>\n      <td>AFG</td>\n      <td>NaN</td>\n      <td>NaN</td>\n      <td>7.4660</td>\n      <td>162.8354</td>\n      <td>48.880</td>\n      <td>120.8</td>\n      <td>NaN</td>\n      <td>NaN</td>\n      <td>50.331000</td>\n      <td>4.476954</td>\n      <td>12412311</td>\n      <td>NaN</td>\n      <td>10.4</td>\n      <td>35.5</td>\n    </tr>\n    <tr>\n      <th>30</th>\n      <td>Afghanistan</td>\n      <td>1991</td>\n      <td>AFG</td>\n      <td>NaN</td>\n      <td>NaN</td>\n      <td>7.4790</td>\n      <td>163.3822</td>\n      <td>48.763</td>\n      <td>117.1</td>\n      <td>NaN</td>\n      <td>NaN</td>\n      <td>50.999000</td>\n      <td>6.900124</td>\n      <td>13299016</td>\n      <td>NaN</td>\n      <td>10.7</td>\n      <td>35.5</td>\n    </tr>\n    <tr>\n      <th>60</th>\n      <td>Afghanistan</td>\n      <td>1992</td>\n      <td>AFG</td>\n      <td>NaN</td>\n      <td>NaN</td>\n      <td>7.5020</td>\n      <td>163.9290</td>\n      <td>48.709</td>\n      <td>113.5</td>\n      <td>NaN</td>\n      <td>NaN</td>\n      <td>51.641000</td>\n      <td>8.546107</td>\n      <td>14485543</td>\n      <td>NaN</td>\n      <td>11.0</td>\n      <td>35.6</td>\n    </tr>\n    <tr>\n      <th>90</th>\n      <td>Afghanistan</td>\n      <td>1993</td>\n      <td>AFG</td>\n      <td>NaN</td>\n      <td>NaN</td>\n      <td>7.5350</td>\n      <td>164.1888</td>\n      <td>48.717</td>\n      <td>110.1</td>\n      <td>NaN</td>\n      <td>NaN</td>\n      <td>52.256000</td>\n      <td>8.790897</td>\n      <td>15816601</td>\n      <td>NaN</td>\n      <td>11.4</td>\n      <td>35.6</td>\n    </tr>\n    <tr>\n      <th>120</th>\n      <td>Afghanistan</td>\n      <td>1994</td>\n      <td>AFG</td>\n      <td>NaN</td>\n      <td>NaN</td>\n      <td>7.5720</td>\n      <td>164.4486</td>\n      <td>48.770</td>\n      <td>106.9</td>\n      <td>NaN</td>\n      <td>NaN</td>\n      <td>52.842000</td>\n      <td>7.659796</td>\n      <td>17075728</td>\n      <td>NaN</td>\n      <td>11.7</td>\n      <td>35.7</td>\n    </tr>\n    <tr>\n      <th>...</th>\n      <td>...</td>\n      <td>...</td>\n      <td>...</td>\n      <td>...</td>\n      <td>...</td>\n      <td>...</td>\n      <td>...</td>\n      <td>...</td>\n      <td>...</td>\n      <td>...</td>\n      <td>...</td>\n      <td>...</td>\n      <td>...</td>\n      <td>...</td>\n      <td>...</td>\n      <td>...</td>\n      <td>...</td>\n    </tr>\n    <tr>\n      <th>808</th>\n      <td>United States</td>\n      <td>2016</td>\n      <td>USA</td>\n      <td>1.869511e+13</td>\n      <td>15.1</td>\n      <td>1.8205</td>\n      <td>21.4754</td>\n      <td>12.200</td>\n      <td>5.7</td>\n      <td>9775.000000</td>\n      <td>16.844324</td>\n      <td>78.539024</td>\n      <td>0.724676</td>\n      <td>323071755</td>\n      <td>57866.744934</td>\n      <td>67.9</td>\n      <td>31.6</td>\n    </tr>\n    <tr>\n      <th>838</th>\n      <td>United States</td>\n      <td>2017</td>\n      <td>USA</td>\n      <td>1.947962e+13</td>\n      <td>15.9</td>\n      <td>1.7655</td>\n      <td>19.8600</td>\n      <td>11.800</td>\n      <td>5.7</td>\n      <td>10103.091797</td>\n      <td>16.805836</td>\n      <td>78.539024</td>\n      <td>0.632644</td>\n      <td>325122128</td>\n      <td>59914.777797</td>\n      <td>NaN</td>\n      <td>31.6</td>\n    </tr>\n    <tr>\n      <th>868</th>\n      <td>United States</td>\n      <td>2018</td>\n      <td>USA</td>\n      <td>2.052716e+13</td>\n      <td>15.7</td>\n      <td>1.7295</td>\n      <td>18.5562</td>\n      <td>11.600</td>\n      <td>5.6</td>\n      <td>10515.323242</td>\n      <td>16.687105</td>\n      <td>78.639024</td>\n      <td>0.526435</td>\n      <td>326838199</td>\n      <td>62805.253758</td>\n      <td>NaN</td>\n      <td>31.6</td>\n    </tr>\n    <tr>\n      <th>898</th>\n      <td>United States</td>\n      <td>2019</td>\n      <td>USA</td>\n      <td>2.137257e+13</td>\n      <td>16.1</td>\n      <td>1.7060</td>\n      <td>17.2524</td>\n      <td>11.400</td>\n      <td>5.5</td>\n      <td>10921.012695</td>\n      <td>16.767063</td>\n      <td>78.787805</td>\n      <td>0.455381</td>\n      <td>328329953</td>\n      <td>65094.799429</td>\n      <td>NaN</td>\n      <td>31.6</td>\n    </tr>\n    <tr>\n      <th>916</th>\n      <td>United States</td>\n      <td>2020</td>\n      <td>USA</td>\n      <td>2.089374e+13</td>\n      <td>NaN</td>\n      <td>1.6375</td>\n      <td>15.9486</td>\n      <td>10.900</td>\n      <td>5.4</td>\n      <td>NaN</td>\n      <td>NaN</td>\n      <td>77.280488</td>\n      <td>0.961201</td>\n      <td>331501080</td>\n      <td>63027.679527</td>\n      <td>NaN</td>\n      <td>NaN</td>\n    </tr>\n  </tbody>\n</table>\n<p>930 rows × 17 columns</p>\n</div>"
          },
          "metadata": {}
        }
      ],
      "execution_count": 4,
      "metadata": {
        "jupyter": {
          "source_hidden": false,
          "outputs_hidden": false
        },
        "nteract": {
          "transient": {
            "deleting": false
          }
        },
        "gather": {
          "logged": 1666784533659
        }
      }
    },
    {
      "cell_type": "code",
      "source": [
        "df_indicadores =df_sort.iloc[:,3:]\n",
        "df_indicadores.head(3)"
      ],
      "outputs": [
        {
          "output_type": "execute_result",
          "execution_count": 5,
          "data": {
            "text/plain": "    NY.GDP.MKTP.CD  SH.STA.SUIC.P5  SP.DYN.TFRT.IN  SP.ADO.TFRT  \\\n0              NaN             NaN           7.466     162.8354   \n30             NaN             NaN           7.479     163.3822   \n60             NaN             NaN           7.502     163.9290   \n\n    SP.DYN.CBRT.IN  SP.DYN.IMRT.IN  SH.XPD.CHEX.PC.CD  SH.XPD.CHEX.GD.ZS  \\\n0           48.880           120.8                NaN                NaN   \n30          48.763           117.1                NaN                NaN   \n60          48.709           113.5                NaN                NaN   \n\n    SP.DYN.LE00.IN  SP.POP.GROW  SP.POP.TOTL  NY.GDP.PCAP.CD  ncd_bmi_25a  \\\n0           50.331     4.476954     12412311             NaN         10.4   \n30          50.999     6.900124     13299016             NaN         10.7   \n60          51.641     8.546107     14485543             NaN         11.0   \n\n    ncd_hyp_prevalence_a  \n0                   35.5  \n30                  35.5  \n60                  35.6  ",
            "text/html": "<div>\n<style scoped>\n    .dataframe tbody tr th:only-of-type {\n        vertical-align: middle;\n    }\n\n    .dataframe tbody tr th {\n        vertical-align: top;\n    }\n\n    .dataframe thead th {\n        text-align: right;\n    }\n</style>\n<table border=\"1\" class=\"dataframe\">\n  <thead>\n    <tr style=\"text-align: right;\">\n      <th></th>\n      <th>NY.GDP.MKTP.CD</th>\n      <th>SH.STA.SUIC.P5</th>\n      <th>SP.DYN.TFRT.IN</th>\n      <th>SP.ADO.TFRT</th>\n      <th>SP.DYN.CBRT.IN</th>\n      <th>SP.DYN.IMRT.IN</th>\n      <th>SH.XPD.CHEX.PC.CD</th>\n      <th>SH.XPD.CHEX.GD.ZS</th>\n      <th>SP.DYN.LE00.IN</th>\n      <th>SP.POP.GROW</th>\n      <th>SP.POP.TOTL</th>\n      <th>NY.GDP.PCAP.CD</th>\n      <th>ncd_bmi_25a</th>\n      <th>ncd_hyp_prevalence_a</th>\n    </tr>\n  </thead>\n  <tbody>\n    <tr>\n      <th>0</th>\n      <td>NaN</td>\n      <td>NaN</td>\n      <td>7.466</td>\n      <td>162.8354</td>\n      <td>48.880</td>\n      <td>120.8</td>\n      <td>NaN</td>\n      <td>NaN</td>\n      <td>50.331</td>\n      <td>4.476954</td>\n      <td>12412311</td>\n      <td>NaN</td>\n      <td>10.4</td>\n      <td>35.5</td>\n    </tr>\n    <tr>\n      <th>30</th>\n      <td>NaN</td>\n      <td>NaN</td>\n      <td>7.479</td>\n      <td>163.3822</td>\n      <td>48.763</td>\n      <td>117.1</td>\n      <td>NaN</td>\n      <td>NaN</td>\n      <td>50.999</td>\n      <td>6.900124</td>\n      <td>13299016</td>\n      <td>NaN</td>\n      <td>10.7</td>\n      <td>35.5</td>\n    </tr>\n    <tr>\n      <th>60</th>\n      <td>NaN</td>\n      <td>NaN</td>\n      <td>7.502</td>\n      <td>163.9290</td>\n      <td>48.709</td>\n      <td>113.5</td>\n      <td>NaN</td>\n      <td>NaN</td>\n      <td>51.641</td>\n      <td>8.546107</td>\n      <td>14485543</td>\n      <td>NaN</td>\n      <td>11.0</td>\n      <td>35.6</td>\n    </tr>\n  </tbody>\n</table>\n</div>"
          },
          "metadata": {}
        }
      ],
      "execution_count": 5,
      "metadata": {
        "jupyter": {
          "source_hidden": false,
          "outputs_hidden": false
        },
        "nteract": {
          "transient": {
            "deleting": false
          }
        },
        "gather": {
          "logged": 1666784537221
        }
      }
    },
    {
      "cell_type": "code",
      "source": [
        "Y =df_sort.iloc[:,0:3]\n",
        "Y.head(3)\n"
      ],
      "outputs": [
        {
          "output_type": "execute_result",
          "execution_count": 6,
          "data": {
            "text/plain": "   country_value  date countryiso3code\n0    Afghanistan  1990             AFG\n30   Afghanistan  1991             AFG\n60   Afghanistan  1992             AFG",
            "text/html": "<div>\n<style scoped>\n    .dataframe tbody tr th:only-of-type {\n        vertical-align: middle;\n    }\n\n    .dataframe tbody tr th {\n        vertical-align: top;\n    }\n\n    .dataframe thead th {\n        text-align: right;\n    }\n</style>\n<table border=\"1\" class=\"dataframe\">\n  <thead>\n    <tr style=\"text-align: right;\">\n      <th></th>\n      <th>country_value</th>\n      <th>date</th>\n      <th>countryiso3code</th>\n    </tr>\n  </thead>\n  <tbody>\n    <tr>\n      <th>0</th>\n      <td>Afghanistan</td>\n      <td>1990</td>\n      <td>AFG</td>\n    </tr>\n    <tr>\n      <th>30</th>\n      <td>Afghanistan</td>\n      <td>1991</td>\n      <td>AFG</td>\n    </tr>\n    <tr>\n      <th>60</th>\n      <td>Afghanistan</td>\n      <td>1992</td>\n      <td>AFG</td>\n    </tr>\n  </tbody>\n</table>\n</div>"
          },
          "metadata": {}
        }
      ],
      "execution_count": 6,
      "metadata": {
        "jupyter": {
          "source_hidden": false,
          "outputs_hidden": false
        },
        "nteract": {
          "transient": {
            "deleting": false
          }
        },
        "gather": {
          "logged": 1666784539065
        }
      }
    },
    {
      "cell_type": "code",
      "source": [
        "X=df_indicadores\n",
        "X.head(3)"
      ],
      "outputs": [
        {
          "output_type": "execute_result",
          "execution_count": 7,
          "data": {
            "text/plain": "    NY.GDP.MKTP.CD  SH.STA.SUIC.P5  SP.DYN.TFRT.IN  SP.ADO.TFRT  \\\n0              NaN             NaN           7.466     162.8354   \n30             NaN             NaN           7.479     163.3822   \n60             NaN             NaN           7.502     163.9290   \n\n    SP.DYN.CBRT.IN  SP.DYN.IMRT.IN  SH.XPD.CHEX.PC.CD  SH.XPD.CHEX.GD.ZS  \\\n0           48.880           120.8                NaN                NaN   \n30          48.763           117.1                NaN                NaN   \n60          48.709           113.5                NaN                NaN   \n\n    SP.DYN.LE00.IN  SP.POP.GROW  SP.POP.TOTL  NY.GDP.PCAP.CD  ncd_bmi_25a  \\\n0           50.331     4.476954     12412311             NaN         10.4   \n30          50.999     6.900124     13299016             NaN         10.7   \n60          51.641     8.546107     14485543             NaN         11.0   \n\n    ncd_hyp_prevalence_a  \n0                   35.5  \n30                  35.5  \n60                  35.6  ",
            "text/html": "<div>\n<style scoped>\n    .dataframe tbody tr th:only-of-type {\n        vertical-align: middle;\n    }\n\n    .dataframe tbody tr th {\n        vertical-align: top;\n    }\n\n    .dataframe thead th {\n        text-align: right;\n    }\n</style>\n<table border=\"1\" class=\"dataframe\">\n  <thead>\n    <tr style=\"text-align: right;\">\n      <th></th>\n      <th>NY.GDP.MKTP.CD</th>\n      <th>SH.STA.SUIC.P5</th>\n      <th>SP.DYN.TFRT.IN</th>\n      <th>SP.ADO.TFRT</th>\n      <th>SP.DYN.CBRT.IN</th>\n      <th>SP.DYN.IMRT.IN</th>\n      <th>SH.XPD.CHEX.PC.CD</th>\n      <th>SH.XPD.CHEX.GD.ZS</th>\n      <th>SP.DYN.LE00.IN</th>\n      <th>SP.POP.GROW</th>\n      <th>SP.POP.TOTL</th>\n      <th>NY.GDP.PCAP.CD</th>\n      <th>ncd_bmi_25a</th>\n      <th>ncd_hyp_prevalence_a</th>\n    </tr>\n  </thead>\n  <tbody>\n    <tr>\n      <th>0</th>\n      <td>NaN</td>\n      <td>NaN</td>\n      <td>7.466</td>\n      <td>162.8354</td>\n      <td>48.880</td>\n      <td>120.8</td>\n      <td>NaN</td>\n      <td>NaN</td>\n      <td>50.331</td>\n      <td>4.476954</td>\n      <td>12412311</td>\n      <td>NaN</td>\n      <td>10.4</td>\n      <td>35.5</td>\n    </tr>\n    <tr>\n      <th>30</th>\n      <td>NaN</td>\n      <td>NaN</td>\n      <td>7.479</td>\n      <td>163.3822</td>\n      <td>48.763</td>\n      <td>117.1</td>\n      <td>NaN</td>\n      <td>NaN</td>\n      <td>50.999</td>\n      <td>6.900124</td>\n      <td>13299016</td>\n      <td>NaN</td>\n      <td>10.7</td>\n      <td>35.5</td>\n    </tr>\n    <tr>\n      <th>60</th>\n      <td>NaN</td>\n      <td>NaN</td>\n      <td>7.502</td>\n      <td>163.9290</td>\n      <td>48.709</td>\n      <td>113.5</td>\n      <td>NaN</td>\n      <td>NaN</td>\n      <td>51.641</td>\n      <td>8.546107</td>\n      <td>14485543</td>\n      <td>NaN</td>\n      <td>11.0</td>\n      <td>35.6</td>\n    </tr>\n  </tbody>\n</table>\n</div>"
          },
          "metadata": {}
        }
      ],
      "execution_count": 7,
      "metadata": {
        "jupyter": {
          "source_hidden": false,
          "outputs_hidden": false
        },
        "nteract": {
          "transient": {
            "deleting": false
          }
        },
        "gather": {
          "logged": 1666784540659
        }
      }
    },
    {
      "cell_type": "code",
      "source": [
        "import numpy as np\n",
        "from sklearn.experimental import enable_iterative_imputer\n",
        "from sklearn.impute import IterativeImputer\n",
        "from sklearn.linear_model import LinearRegression\n",
        "\n",
        "lr = LinearRegression()\n",
        "imp = IterativeImputer(estimator=lr,missing_values=np.nan, max_iter=10, verbose=2, imputation_order='roman',random_state=0)\n",
        "X=imp.fit_transform(X)"
      ],
      "outputs": [
        {
          "output_type": "stream",
          "name": "stdout",
          "text": "[IterativeImputer] Completing matrix with shape (930, 14)\n[IterativeImputer] Ending imputation round 1/10, elapsed time 0.04\n[IterativeImputer] Change: 1821731664767.4224, scaled tolerance: 21372572437.0 \n[IterativeImputer] Ending imputation round 2/10, elapsed time 0.08\n[IterativeImputer] Change: 825249416508.7948, scaled tolerance: 21372572437.0 \n[IterativeImputer] Ending imputation round 3/10, elapsed time 0.12\n[IterativeImputer] Change: 216283129020.3151, scaled tolerance: 21372572437.0 \n[IterativeImputer] Ending imputation round 4/10, elapsed time 0.16\n[IterativeImputer] Change: 84546421146.15543, scaled tolerance: 21372572437.0 \n[IterativeImputer] Ending imputation round 5/10, elapsed time 0.20\n[IterativeImputer] Change: 85251805194.21863, scaled tolerance: 21372572437.0 \n[IterativeImputer] Ending imputation round 6/10, elapsed time 0.24\n[IterativeImputer] Change: 121326082851.74881, scaled tolerance: 21372572437.0 \n[IterativeImputer] Ending imputation round 7/10, elapsed time 0.28\n[IterativeImputer] Change: 139601211733.14215, scaled tolerance: 21372572437.0 \n[IterativeImputer] Ending imputation round 8/10, elapsed time 0.32\n[IterativeImputer] Change: 147260695278.68024, scaled tolerance: 21372572437.0 \n[IterativeImputer] Ending imputation round 9/10, elapsed time 0.36\n[IterativeImputer] Change: 148820923970.65677, scaled tolerance: 21372572437.0 \n[IterativeImputer] Ending imputation round 10/10, elapsed time 0.40\n[IterativeImputer] Change: 146989610227.93655, scaled tolerance: 21372572437.0 \n"
        },
        {
          "output_type": "stream",
          "name": "stderr",
          "text": "/anaconda/envs/azureml_py38/lib/python3.8/site-packages/sklearn/impute/_iterative.py:637: ConvergenceWarning: [IterativeImputer] Early stopping criterion not reached.\n  warnings.warn(\"[IterativeImputer] Early stopping criterion not\"\n"
        }
      ],
      "execution_count": 8,
      "metadata": {
        "jupyter": {
          "source_hidden": false,
          "outputs_hidden": false
        },
        "nteract": {
          "transient": {
            "deleting": false
          }
        },
        "gather": {
          "logged": 1666784544440
        }
      }
    },
    {
      "cell_type": "code",
      "source": [
        "pd.DataFrame(X)"
      ],
      "outputs": [
        {
          "output_type": "execute_result",
          "execution_count": 9,
          "data": {
            "text/plain": "               0          1       2         3       4      5             6   \\\n0    9.650979e+11  -0.950447  7.4660  162.8354  48.880  120.8   1262.067695   \n1   -9.837708e+10  -0.224073  7.4790  163.3822  48.763  117.1   1341.144948   \n2   -7.657523e+11   0.273106  7.5020  163.9290  48.709  113.5   1398.103213   \n3   -7.370584e+11   0.326369  7.5350  164.1888  48.717  110.1   1421.178804   \n4   -2.132502e+10  -0.044085  7.5720  164.4486  48.770  106.9   1405.110385   \n..            ...        ...     ...       ...     ...    ...           ...   \n925  1.869511e+13  15.100000  1.8205   21.4754  12.200    5.7   9775.000000   \n926  1.947962e+13  15.900000  1.7655   19.8600  11.800    5.7  10103.091797   \n927  2.052716e+13  15.700000  1.7295   18.5562  11.600    5.6  10515.323242   \n928  2.137257e+13  16.100000  1.7060   17.2524  11.400    5.5  10921.012695   \n929  2.089374e+13  16.570331  1.6375   15.9486  10.900    5.4   9767.349077   \n\n            7          8         9            10            11         12  \\\n0     7.381806  50.331000  4.476954   12412311.0   8462.493597  10.400000   \n1     9.420020  50.999000  6.900124   13299016.0  12846.415533  10.700000   \n2    10.874174  51.641000  8.546107   14485543.0  15828.551365  11.000000   \n3    11.258260  52.256000  8.790897   15816601.0  16388.252504  11.400000   \n4    10.592309  52.842000  7.659796   17075728.0  14476.414424  11.700000   \n..         ...        ...       ...          ...           ...        ...   \n925  16.844324  78.539024  0.724676  323071755.0  57866.744934  67.900000   \n926  16.805836  78.539024  0.632644  325122128.0  59914.777797  53.177159   \n927  16.687105  78.639024  0.526435  326838199.0  62805.253758  53.371362   \n928  16.767063  78.787805  0.455381  328329953.0  65094.799429  52.878313   \n929  17.757796  77.280488  0.961201  331501080.0  63027.679527  66.187117   \n\n            13  \n0    35.500000  \n1    35.500000  \n2    35.600000  \n3    35.600000  \n4    35.700000  \n..         ...  \n925  31.600000  \n926  31.600000  \n927  31.600000  \n928  31.600000  \n929  31.783991  \n\n[930 rows x 14 columns]",
            "text/html": "<div>\n<style scoped>\n    .dataframe tbody tr th:only-of-type {\n        vertical-align: middle;\n    }\n\n    .dataframe tbody tr th {\n        vertical-align: top;\n    }\n\n    .dataframe thead th {\n        text-align: right;\n    }\n</style>\n<table border=\"1\" class=\"dataframe\">\n  <thead>\n    <tr style=\"text-align: right;\">\n      <th></th>\n      <th>0</th>\n      <th>1</th>\n      <th>2</th>\n      <th>3</th>\n      <th>4</th>\n      <th>5</th>\n      <th>6</th>\n      <th>7</th>\n      <th>8</th>\n      <th>9</th>\n      <th>10</th>\n      <th>11</th>\n      <th>12</th>\n      <th>13</th>\n    </tr>\n  </thead>\n  <tbody>\n    <tr>\n      <th>0</th>\n      <td>9.650979e+11</td>\n      <td>-0.950447</td>\n      <td>7.4660</td>\n      <td>162.8354</td>\n      <td>48.880</td>\n      <td>120.8</td>\n      <td>1262.067695</td>\n      <td>7.381806</td>\n      <td>50.331000</td>\n      <td>4.476954</td>\n      <td>12412311.0</td>\n      <td>8462.493597</td>\n      <td>10.400000</td>\n      <td>35.500000</td>\n    </tr>\n    <tr>\n      <th>1</th>\n      <td>-9.837708e+10</td>\n      <td>-0.224073</td>\n      <td>7.4790</td>\n      <td>163.3822</td>\n      <td>48.763</td>\n      <td>117.1</td>\n      <td>1341.144948</td>\n      <td>9.420020</td>\n      <td>50.999000</td>\n      <td>6.900124</td>\n      <td>13299016.0</td>\n      <td>12846.415533</td>\n      <td>10.700000</td>\n      <td>35.500000</td>\n    </tr>\n    <tr>\n      <th>2</th>\n      <td>-7.657523e+11</td>\n      <td>0.273106</td>\n      <td>7.5020</td>\n      <td>163.9290</td>\n      <td>48.709</td>\n      <td>113.5</td>\n      <td>1398.103213</td>\n      <td>10.874174</td>\n      <td>51.641000</td>\n      <td>8.546107</td>\n      <td>14485543.0</td>\n      <td>15828.551365</td>\n      <td>11.000000</td>\n      <td>35.600000</td>\n    </tr>\n    <tr>\n      <th>3</th>\n      <td>-7.370584e+11</td>\n      <td>0.326369</td>\n      <td>7.5350</td>\n      <td>164.1888</td>\n      <td>48.717</td>\n      <td>110.1</td>\n      <td>1421.178804</td>\n      <td>11.258260</td>\n      <td>52.256000</td>\n      <td>8.790897</td>\n      <td>15816601.0</td>\n      <td>16388.252504</td>\n      <td>11.400000</td>\n      <td>35.600000</td>\n    </tr>\n    <tr>\n      <th>4</th>\n      <td>-2.132502e+10</td>\n      <td>-0.044085</td>\n      <td>7.5720</td>\n      <td>164.4486</td>\n      <td>48.770</td>\n      <td>106.9</td>\n      <td>1405.110385</td>\n      <td>10.592309</td>\n      <td>52.842000</td>\n      <td>7.659796</td>\n      <td>17075728.0</td>\n      <td>14476.414424</td>\n      <td>11.700000</td>\n      <td>35.700000</td>\n    </tr>\n    <tr>\n      <th>...</th>\n      <td>...</td>\n      <td>...</td>\n      <td>...</td>\n      <td>...</td>\n      <td>...</td>\n      <td>...</td>\n      <td>...</td>\n      <td>...</td>\n      <td>...</td>\n      <td>...</td>\n      <td>...</td>\n      <td>...</td>\n      <td>...</td>\n      <td>...</td>\n    </tr>\n    <tr>\n      <th>925</th>\n      <td>1.869511e+13</td>\n      <td>15.100000</td>\n      <td>1.8205</td>\n      <td>21.4754</td>\n      <td>12.200</td>\n      <td>5.7</td>\n      <td>9775.000000</td>\n      <td>16.844324</td>\n      <td>78.539024</td>\n      <td>0.724676</td>\n      <td>323071755.0</td>\n      <td>57866.744934</td>\n      <td>67.900000</td>\n      <td>31.600000</td>\n    </tr>\n    <tr>\n      <th>926</th>\n      <td>1.947962e+13</td>\n      <td>15.900000</td>\n      <td>1.7655</td>\n      <td>19.8600</td>\n      <td>11.800</td>\n      <td>5.7</td>\n      <td>10103.091797</td>\n      <td>16.805836</td>\n      <td>78.539024</td>\n      <td>0.632644</td>\n      <td>325122128.0</td>\n      <td>59914.777797</td>\n      <td>53.177159</td>\n      <td>31.600000</td>\n    </tr>\n    <tr>\n      <th>927</th>\n      <td>2.052716e+13</td>\n      <td>15.700000</td>\n      <td>1.7295</td>\n      <td>18.5562</td>\n      <td>11.600</td>\n      <td>5.6</td>\n      <td>10515.323242</td>\n      <td>16.687105</td>\n      <td>78.639024</td>\n      <td>0.526435</td>\n      <td>326838199.0</td>\n      <td>62805.253758</td>\n      <td>53.371362</td>\n      <td>31.600000</td>\n    </tr>\n    <tr>\n      <th>928</th>\n      <td>2.137257e+13</td>\n      <td>16.100000</td>\n      <td>1.7060</td>\n      <td>17.2524</td>\n      <td>11.400</td>\n      <td>5.5</td>\n      <td>10921.012695</td>\n      <td>16.767063</td>\n      <td>78.787805</td>\n      <td>0.455381</td>\n      <td>328329953.0</td>\n      <td>65094.799429</td>\n      <td>52.878313</td>\n      <td>31.600000</td>\n    </tr>\n    <tr>\n      <th>929</th>\n      <td>2.089374e+13</td>\n      <td>16.570331</td>\n      <td>1.6375</td>\n      <td>15.9486</td>\n      <td>10.900</td>\n      <td>5.4</td>\n      <td>9767.349077</td>\n      <td>17.757796</td>\n      <td>77.280488</td>\n      <td>0.961201</td>\n      <td>331501080.0</td>\n      <td>63027.679527</td>\n      <td>66.187117</td>\n      <td>31.783991</td>\n    </tr>\n  </tbody>\n</table>\n<p>930 rows × 14 columns</p>\n</div>"
          },
          "metadata": {}
        }
      ],
      "execution_count": 9,
      "metadata": {
        "jupyter": {
          "source_hidden": false,
          "outputs_hidden": false
        },
        "nteract": {
          "transient": {
            "deleting": false
          }
        },
        "gather": {
          "logged": 1666784549523
        }
      }
    },
    {
      "cell_type": "code",
      "source": [
        "X=pd.DataFrame(X)"
      ],
      "outputs": [],
      "execution_count": 10,
      "metadata": {
        "jupyter": {
          "source_hidden": false,
          "outputs_hidden": false
        },
        "nteract": {
          "transient": {
            "deleting": false
          }
        },
        "gather": {
          "logged": 1666784552286
        }
      }
    },
    {
      "cell_type": "code",
      "source": [
        "\n",
        "X[\"country_value\"] = Y.iloc[:,0:1]\n",
        "X[\"date\"] = Y.iloc[:,1:2]\n",
        "X[\"countryiso3code\"] = Y.iloc[:,2:3]\n",
        "print(X)\n",
        "\n",
        "\n",
        "\n"
      ],
      "outputs": [
        {
          "output_type": "stream",
          "name": "stdout",
          "text": "                0          1       2         3       4      5             6  \\\n0    9.650979e+11  -0.950447  7.4660  162.8354  48.880  120.8   1262.067695   \n1   -9.837708e+10  -0.224073  7.4790  163.3822  48.763  117.1   1341.144948   \n2   -7.657523e+11   0.273106  7.5020  163.9290  48.709  113.5   1398.103213   \n3   -7.370584e+11   0.326369  7.5350  164.1888  48.717  110.1   1421.178804   \n4   -2.132502e+10  -0.044085  7.5720  164.4486  48.770  106.9   1405.110385   \n..            ...        ...     ...       ...     ...    ...           ...   \n925  1.869511e+13  15.100000  1.8205   21.4754  12.200    5.7   9775.000000   \n926  1.947962e+13  15.900000  1.7655   19.8600  11.800    5.7  10103.091797   \n927  2.052716e+13  15.700000  1.7295   18.5562  11.600    5.6  10515.323242   \n928  2.137257e+13  16.100000  1.7060   17.2524  11.400    5.5  10921.012695   \n929  2.089374e+13  16.570331  1.6375   15.9486  10.900    5.4   9767.349077   \n\n             7          8         9           10            11         12  \\\n0     7.381806  50.331000  4.476954   12412311.0   8462.493597  10.400000   \n1     9.420020  50.999000  6.900124   13299016.0  12846.415533  10.700000   \n2    10.874174  51.641000  8.546107   14485543.0  15828.551365  11.000000   \n3    11.258260  52.256000  8.790897   15816601.0  16388.252504  11.400000   \n4    10.592309  52.842000  7.659796   17075728.0  14476.414424  11.700000   \n..         ...        ...       ...          ...           ...        ...   \n925  16.844324  78.539024  0.724676  323071755.0  57866.744934  67.900000   \n926  16.805836  78.539024  0.632644  325122128.0  59914.777797  53.177159   \n927  16.687105  78.639024  0.526435  326838199.0  62805.253758  53.371362   \n928  16.767063  78.787805  0.455381  328329953.0  65094.799429  52.878313   \n929  17.757796  77.280488  0.961201  331501080.0  63027.679527  66.187117   \n\n            13 country_value  date countryiso3code  \n0    35.500000   Afghanistan  1990             AFG  \n1    35.500000     Argentina  1990             ARG  \n2    35.600000     Australia  1990             AUS  \n3    35.600000    Bangladesh  1990             BGD  \n4    35.700000        Brazil  1990             BRA  \n..         ...           ...   ...             ...  \n925  31.600000         Chile  2020             CHL  \n926  31.600000     Argentina  2020             ARG  \n927  31.600000        Brazil  2020             BRA  \n928  31.600000         Italy  2020             ITA  \n929  31.783991        Mexico  2020             MEX  \n\n[930 rows x 17 columns]\n"
        }
      ],
      "execution_count": 11,
      "metadata": {
        "jupyter": {
          "source_hidden": false,
          "outputs_hidden": false
        },
        "nteract": {
          "transient": {
            "deleting": false
          }
        },
        "gather": {
          "logged": 1666784556127
        }
      }
    },
    {
      "cell_type": "code",
      "source": [
        "X=pd.DataFrame(X)\n",
        "X"
      ],
      "outputs": [
        {
          "output_type": "execute_result",
          "execution_count": 12,
          "data": {
            "text/plain": "                0          1       2         3       4      5             6  \\\n0    9.650979e+11  -0.950447  7.4660  162.8354  48.880  120.8   1262.067695   \n1   -9.837708e+10  -0.224073  7.4790  163.3822  48.763  117.1   1341.144948   \n2   -7.657523e+11   0.273106  7.5020  163.9290  48.709  113.5   1398.103213   \n3   -7.370584e+11   0.326369  7.5350  164.1888  48.717  110.1   1421.178804   \n4   -2.132502e+10  -0.044085  7.5720  164.4486  48.770  106.9   1405.110385   \n..            ...        ...     ...       ...     ...    ...           ...   \n925  1.869511e+13  15.100000  1.8205   21.4754  12.200    5.7   9775.000000   \n926  1.947962e+13  15.900000  1.7655   19.8600  11.800    5.7  10103.091797   \n927  2.052716e+13  15.700000  1.7295   18.5562  11.600    5.6  10515.323242   \n928  2.137257e+13  16.100000  1.7060   17.2524  11.400    5.5  10921.012695   \n929  2.089374e+13  16.570331  1.6375   15.9486  10.900    5.4   9767.349077   \n\n             7          8         9           10            11         12  \\\n0     7.381806  50.331000  4.476954   12412311.0   8462.493597  10.400000   \n1     9.420020  50.999000  6.900124   13299016.0  12846.415533  10.700000   \n2    10.874174  51.641000  8.546107   14485543.0  15828.551365  11.000000   \n3    11.258260  52.256000  8.790897   15816601.0  16388.252504  11.400000   \n4    10.592309  52.842000  7.659796   17075728.0  14476.414424  11.700000   \n..         ...        ...       ...          ...           ...        ...   \n925  16.844324  78.539024  0.724676  323071755.0  57866.744934  67.900000   \n926  16.805836  78.539024  0.632644  325122128.0  59914.777797  53.177159   \n927  16.687105  78.639024  0.526435  326838199.0  62805.253758  53.371362   \n928  16.767063  78.787805  0.455381  328329953.0  65094.799429  52.878313   \n929  17.757796  77.280488  0.961201  331501080.0  63027.679527  66.187117   \n\n            13 country_value  date countryiso3code  \n0    35.500000   Afghanistan  1990             AFG  \n1    35.500000     Argentina  1990             ARG  \n2    35.600000     Australia  1990             AUS  \n3    35.600000    Bangladesh  1990             BGD  \n4    35.700000        Brazil  1990             BRA  \n..         ...           ...   ...             ...  \n925  31.600000         Chile  2020             CHL  \n926  31.600000     Argentina  2020             ARG  \n927  31.600000        Brazil  2020             BRA  \n928  31.600000         Italy  2020             ITA  \n929  31.783991        Mexico  2020             MEX  \n\n[930 rows x 17 columns]",
            "text/html": "<div>\n<style scoped>\n    .dataframe tbody tr th:only-of-type {\n        vertical-align: middle;\n    }\n\n    .dataframe tbody tr th {\n        vertical-align: top;\n    }\n\n    .dataframe thead th {\n        text-align: right;\n    }\n</style>\n<table border=\"1\" class=\"dataframe\">\n  <thead>\n    <tr style=\"text-align: right;\">\n      <th></th>\n      <th>0</th>\n      <th>1</th>\n      <th>2</th>\n      <th>3</th>\n      <th>4</th>\n      <th>5</th>\n      <th>6</th>\n      <th>7</th>\n      <th>8</th>\n      <th>9</th>\n      <th>10</th>\n      <th>11</th>\n      <th>12</th>\n      <th>13</th>\n      <th>country_value</th>\n      <th>date</th>\n      <th>countryiso3code</th>\n    </tr>\n  </thead>\n  <tbody>\n    <tr>\n      <th>0</th>\n      <td>9.650979e+11</td>\n      <td>-0.950447</td>\n      <td>7.4660</td>\n      <td>162.8354</td>\n      <td>48.880</td>\n      <td>120.8</td>\n      <td>1262.067695</td>\n      <td>7.381806</td>\n      <td>50.331000</td>\n      <td>4.476954</td>\n      <td>12412311.0</td>\n      <td>8462.493597</td>\n      <td>10.400000</td>\n      <td>35.500000</td>\n      <td>Afghanistan</td>\n      <td>1990</td>\n      <td>AFG</td>\n    </tr>\n    <tr>\n      <th>1</th>\n      <td>-9.837708e+10</td>\n      <td>-0.224073</td>\n      <td>7.4790</td>\n      <td>163.3822</td>\n      <td>48.763</td>\n      <td>117.1</td>\n      <td>1341.144948</td>\n      <td>9.420020</td>\n      <td>50.999000</td>\n      <td>6.900124</td>\n      <td>13299016.0</td>\n      <td>12846.415533</td>\n      <td>10.700000</td>\n      <td>35.500000</td>\n      <td>Argentina</td>\n      <td>1990</td>\n      <td>ARG</td>\n    </tr>\n    <tr>\n      <th>2</th>\n      <td>-7.657523e+11</td>\n      <td>0.273106</td>\n      <td>7.5020</td>\n      <td>163.9290</td>\n      <td>48.709</td>\n      <td>113.5</td>\n      <td>1398.103213</td>\n      <td>10.874174</td>\n      <td>51.641000</td>\n      <td>8.546107</td>\n      <td>14485543.0</td>\n      <td>15828.551365</td>\n      <td>11.000000</td>\n      <td>35.600000</td>\n      <td>Australia</td>\n      <td>1990</td>\n      <td>AUS</td>\n    </tr>\n    <tr>\n      <th>3</th>\n      <td>-7.370584e+11</td>\n      <td>0.326369</td>\n      <td>7.5350</td>\n      <td>164.1888</td>\n      <td>48.717</td>\n      <td>110.1</td>\n      <td>1421.178804</td>\n      <td>11.258260</td>\n      <td>52.256000</td>\n      <td>8.790897</td>\n      <td>15816601.0</td>\n      <td>16388.252504</td>\n      <td>11.400000</td>\n      <td>35.600000</td>\n      <td>Bangladesh</td>\n      <td>1990</td>\n      <td>BGD</td>\n    </tr>\n    <tr>\n      <th>4</th>\n      <td>-2.132502e+10</td>\n      <td>-0.044085</td>\n      <td>7.5720</td>\n      <td>164.4486</td>\n      <td>48.770</td>\n      <td>106.9</td>\n      <td>1405.110385</td>\n      <td>10.592309</td>\n      <td>52.842000</td>\n      <td>7.659796</td>\n      <td>17075728.0</td>\n      <td>14476.414424</td>\n      <td>11.700000</td>\n      <td>35.700000</td>\n      <td>Brazil</td>\n      <td>1990</td>\n      <td>BRA</td>\n    </tr>\n    <tr>\n      <th>...</th>\n      <td>...</td>\n      <td>...</td>\n      <td>...</td>\n      <td>...</td>\n      <td>...</td>\n      <td>...</td>\n      <td>...</td>\n      <td>...</td>\n      <td>...</td>\n      <td>...</td>\n      <td>...</td>\n      <td>...</td>\n      <td>...</td>\n      <td>...</td>\n      <td>...</td>\n      <td>...</td>\n      <td>...</td>\n    </tr>\n    <tr>\n      <th>925</th>\n      <td>1.869511e+13</td>\n      <td>15.100000</td>\n      <td>1.8205</td>\n      <td>21.4754</td>\n      <td>12.200</td>\n      <td>5.7</td>\n      <td>9775.000000</td>\n      <td>16.844324</td>\n      <td>78.539024</td>\n      <td>0.724676</td>\n      <td>323071755.0</td>\n      <td>57866.744934</td>\n      <td>67.900000</td>\n      <td>31.600000</td>\n      <td>Chile</td>\n      <td>2020</td>\n      <td>CHL</td>\n    </tr>\n    <tr>\n      <th>926</th>\n      <td>1.947962e+13</td>\n      <td>15.900000</td>\n      <td>1.7655</td>\n      <td>19.8600</td>\n      <td>11.800</td>\n      <td>5.7</td>\n      <td>10103.091797</td>\n      <td>16.805836</td>\n      <td>78.539024</td>\n      <td>0.632644</td>\n      <td>325122128.0</td>\n      <td>59914.777797</td>\n      <td>53.177159</td>\n      <td>31.600000</td>\n      <td>Argentina</td>\n      <td>2020</td>\n      <td>ARG</td>\n    </tr>\n    <tr>\n      <th>927</th>\n      <td>2.052716e+13</td>\n      <td>15.700000</td>\n      <td>1.7295</td>\n      <td>18.5562</td>\n      <td>11.600</td>\n      <td>5.6</td>\n      <td>10515.323242</td>\n      <td>16.687105</td>\n      <td>78.639024</td>\n      <td>0.526435</td>\n      <td>326838199.0</td>\n      <td>62805.253758</td>\n      <td>53.371362</td>\n      <td>31.600000</td>\n      <td>Brazil</td>\n      <td>2020</td>\n      <td>BRA</td>\n    </tr>\n    <tr>\n      <th>928</th>\n      <td>2.137257e+13</td>\n      <td>16.100000</td>\n      <td>1.7060</td>\n      <td>17.2524</td>\n      <td>11.400</td>\n      <td>5.5</td>\n      <td>10921.012695</td>\n      <td>16.767063</td>\n      <td>78.787805</td>\n      <td>0.455381</td>\n      <td>328329953.0</td>\n      <td>65094.799429</td>\n      <td>52.878313</td>\n      <td>31.600000</td>\n      <td>Italy</td>\n      <td>2020</td>\n      <td>ITA</td>\n    </tr>\n    <tr>\n      <th>929</th>\n      <td>2.089374e+13</td>\n      <td>16.570331</td>\n      <td>1.6375</td>\n      <td>15.9486</td>\n      <td>10.900</td>\n      <td>5.4</td>\n      <td>9767.349077</td>\n      <td>17.757796</td>\n      <td>77.280488</td>\n      <td>0.961201</td>\n      <td>331501080.0</td>\n      <td>63027.679527</td>\n      <td>66.187117</td>\n      <td>31.783991</td>\n      <td>Mexico</td>\n      <td>2020</td>\n      <td>MEX</td>\n    </tr>\n  </tbody>\n</table>\n<p>930 rows × 17 columns</p>\n</div>"
          },
          "metadata": {}
        }
      ],
      "execution_count": 12,
      "metadata": {
        "jupyter": {
          "source_hidden": false,
          "outputs_hidden": false
        },
        "nteract": {
          "transient": {
            "deleting": false
          }
        },
        "gather": {
          "logged": 1666784559225
        }
      }
    },
    {
      "cell_type": "code",
      "source": [
        "df_rename=X.rename(columns={0: \"NY.GDP.MKTP.CD\", 1: \"SH.STA.SUIC.P5\",2:\"SP.DYN.TFRT.IN\",3:\"SP.ADO.TFRT\",4:\"SP.DYN.CBRT.IN\",5:\"SP.DYN.IMRT.IN\",6:\"SH.XPD.CHEX.PC.CD\",7:\"SH.XPD.CHEX.GD.ZS\",8:\"SP.DYN.LE00.IN\",9:\"SP.POP.GROW\",10:\"SP.POP.TOTL\",11:\"NY.GDP.PCAP.CD\",12:\"ncd_bmi_25a\",13:\"ncd_hyp_prevalence_a\"})\n"
      ],
      "outputs": [],
      "execution_count": 13,
      "metadata": {
        "jupyter": {
          "source_hidden": false,
          "outputs_hidden": false
        },
        "nteract": {
          "transient": {
            "deleting": false
          }
        },
        "gather": {
          "logged": 1666784563258
        }
      }
    },
    {
      "cell_type": "code",
      "source": [
        "df_rename"
      ],
      "outputs": [
        {
          "output_type": "execute_result",
          "execution_count": 14,
          "data": {
            "text/plain": "     NY.GDP.MKTP.CD  SH.STA.SUIC.P5  SP.DYN.TFRT.IN  SP.ADO.TFRT  \\\n0      9.650979e+11       -0.950447          7.4660     162.8354   \n1     -9.837708e+10       -0.224073          7.4790     163.3822   \n2     -7.657523e+11        0.273106          7.5020     163.9290   \n3     -7.370584e+11        0.326369          7.5350     164.1888   \n4     -2.132502e+10       -0.044085          7.5720     164.4486   \n..              ...             ...             ...          ...   \n925    1.869511e+13       15.100000          1.8205      21.4754   \n926    1.947962e+13       15.900000          1.7655      19.8600   \n927    2.052716e+13       15.700000          1.7295      18.5562   \n928    2.137257e+13       16.100000          1.7060      17.2524   \n929    2.089374e+13       16.570331          1.6375      15.9486   \n\n     SP.DYN.CBRT.IN  SP.DYN.IMRT.IN  SH.XPD.CHEX.PC.CD  SH.XPD.CHEX.GD.ZS  \\\n0            48.880           120.8        1262.067695           7.381806   \n1            48.763           117.1        1341.144948           9.420020   \n2            48.709           113.5        1398.103213          10.874174   \n3            48.717           110.1        1421.178804          11.258260   \n4            48.770           106.9        1405.110385          10.592309   \n..              ...             ...                ...                ...   \n925          12.200             5.7        9775.000000          16.844324   \n926          11.800             5.7       10103.091797          16.805836   \n927          11.600             5.6       10515.323242          16.687105   \n928          11.400             5.5       10921.012695          16.767063   \n929          10.900             5.4        9767.349077          17.757796   \n\n     SP.DYN.LE00.IN  SP.POP.GROW  SP.POP.TOTL  NY.GDP.PCAP.CD  ncd_bmi_25a  \\\n0         50.331000     4.476954   12412311.0     8462.493597    10.400000   \n1         50.999000     6.900124   13299016.0    12846.415533    10.700000   \n2         51.641000     8.546107   14485543.0    15828.551365    11.000000   \n3         52.256000     8.790897   15816601.0    16388.252504    11.400000   \n4         52.842000     7.659796   17075728.0    14476.414424    11.700000   \n..              ...          ...          ...             ...          ...   \n925       78.539024     0.724676  323071755.0    57866.744934    67.900000   \n926       78.539024     0.632644  325122128.0    59914.777797    53.177159   \n927       78.639024     0.526435  326838199.0    62805.253758    53.371362   \n928       78.787805     0.455381  328329953.0    65094.799429    52.878313   \n929       77.280488     0.961201  331501080.0    63027.679527    66.187117   \n\n     ncd_hyp_prevalence_a country_value  date countryiso3code  \n0               35.500000   Afghanistan  1990             AFG  \n1               35.500000     Argentina  1990             ARG  \n2               35.600000     Australia  1990             AUS  \n3               35.600000    Bangladesh  1990             BGD  \n4               35.700000        Brazil  1990             BRA  \n..                    ...           ...   ...             ...  \n925             31.600000         Chile  2020             CHL  \n926             31.600000     Argentina  2020             ARG  \n927             31.600000        Brazil  2020             BRA  \n928             31.600000         Italy  2020             ITA  \n929             31.783991        Mexico  2020             MEX  \n\n[930 rows x 17 columns]",
            "text/html": "<div>\n<style scoped>\n    .dataframe tbody tr th:only-of-type {\n        vertical-align: middle;\n    }\n\n    .dataframe tbody tr th {\n        vertical-align: top;\n    }\n\n    .dataframe thead th {\n        text-align: right;\n    }\n</style>\n<table border=\"1\" class=\"dataframe\">\n  <thead>\n    <tr style=\"text-align: right;\">\n      <th></th>\n      <th>NY.GDP.MKTP.CD</th>\n      <th>SH.STA.SUIC.P5</th>\n      <th>SP.DYN.TFRT.IN</th>\n      <th>SP.ADO.TFRT</th>\n      <th>SP.DYN.CBRT.IN</th>\n      <th>SP.DYN.IMRT.IN</th>\n      <th>SH.XPD.CHEX.PC.CD</th>\n      <th>SH.XPD.CHEX.GD.ZS</th>\n      <th>SP.DYN.LE00.IN</th>\n      <th>SP.POP.GROW</th>\n      <th>SP.POP.TOTL</th>\n      <th>NY.GDP.PCAP.CD</th>\n      <th>ncd_bmi_25a</th>\n      <th>ncd_hyp_prevalence_a</th>\n      <th>country_value</th>\n      <th>date</th>\n      <th>countryiso3code</th>\n    </tr>\n  </thead>\n  <tbody>\n    <tr>\n      <th>0</th>\n      <td>9.650979e+11</td>\n      <td>-0.950447</td>\n      <td>7.4660</td>\n      <td>162.8354</td>\n      <td>48.880</td>\n      <td>120.8</td>\n      <td>1262.067695</td>\n      <td>7.381806</td>\n      <td>50.331000</td>\n      <td>4.476954</td>\n      <td>12412311.0</td>\n      <td>8462.493597</td>\n      <td>10.400000</td>\n      <td>35.500000</td>\n      <td>Afghanistan</td>\n      <td>1990</td>\n      <td>AFG</td>\n    </tr>\n    <tr>\n      <th>1</th>\n      <td>-9.837708e+10</td>\n      <td>-0.224073</td>\n      <td>7.4790</td>\n      <td>163.3822</td>\n      <td>48.763</td>\n      <td>117.1</td>\n      <td>1341.144948</td>\n      <td>9.420020</td>\n      <td>50.999000</td>\n      <td>6.900124</td>\n      <td>13299016.0</td>\n      <td>12846.415533</td>\n      <td>10.700000</td>\n      <td>35.500000</td>\n      <td>Argentina</td>\n      <td>1990</td>\n      <td>ARG</td>\n    </tr>\n    <tr>\n      <th>2</th>\n      <td>-7.657523e+11</td>\n      <td>0.273106</td>\n      <td>7.5020</td>\n      <td>163.9290</td>\n      <td>48.709</td>\n      <td>113.5</td>\n      <td>1398.103213</td>\n      <td>10.874174</td>\n      <td>51.641000</td>\n      <td>8.546107</td>\n      <td>14485543.0</td>\n      <td>15828.551365</td>\n      <td>11.000000</td>\n      <td>35.600000</td>\n      <td>Australia</td>\n      <td>1990</td>\n      <td>AUS</td>\n    </tr>\n    <tr>\n      <th>3</th>\n      <td>-7.370584e+11</td>\n      <td>0.326369</td>\n      <td>7.5350</td>\n      <td>164.1888</td>\n      <td>48.717</td>\n      <td>110.1</td>\n      <td>1421.178804</td>\n      <td>11.258260</td>\n      <td>52.256000</td>\n      <td>8.790897</td>\n      <td>15816601.0</td>\n      <td>16388.252504</td>\n      <td>11.400000</td>\n      <td>35.600000</td>\n      <td>Bangladesh</td>\n      <td>1990</td>\n      <td>BGD</td>\n    </tr>\n    <tr>\n      <th>4</th>\n      <td>-2.132502e+10</td>\n      <td>-0.044085</td>\n      <td>7.5720</td>\n      <td>164.4486</td>\n      <td>48.770</td>\n      <td>106.9</td>\n      <td>1405.110385</td>\n      <td>10.592309</td>\n      <td>52.842000</td>\n      <td>7.659796</td>\n      <td>17075728.0</td>\n      <td>14476.414424</td>\n      <td>11.700000</td>\n      <td>35.700000</td>\n      <td>Brazil</td>\n      <td>1990</td>\n      <td>BRA</td>\n    </tr>\n    <tr>\n      <th>...</th>\n      <td>...</td>\n      <td>...</td>\n      <td>...</td>\n      <td>...</td>\n      <td>...</td>\n      <td>...</td>\n      <td>...</td>\n      <td>...</td>\n      <td>...</td>\n      <td>...</td>\n      <td>...</td>\n      <td>...</td>\n      <td>...</td>\n      <td>...</td>\n      <td>...</td>\n      <td>...</td>\n      <td>...</td>\n    </tr>\n    <tr>\n      <th>925</th>\n      <td>1.869511e+13</td>\n      <td>15.100000</td>\n      <td>1.8205</td>\n      <td>21.4754</td>\n      <td>12.200</td>\n      <td>5.7</td>\n      <td>9775.000000</td>\n      <td>16.844324</td>\n      <td>78.539024</td>\n      <td>0.724676</td>\n      <td>323071755.0</td>\n      <td>57866.744934</td>\n      <td>67.900000</td>\n      <td>31.600000</td>\n      <td>Chile</td>\n      <td>2020</td>\n      <td>CHL</td>\n    </tr>\n    <tr>\n      <th>926</th>\n      <td>1.947962e+13</td>\n      <td>15.900000</td>\n      <td>1.7655</td>\n      <td>19.8600</td>\n      <td>11.800</td>\n      <td>5.7</td>\n      <td>10103.091797</td>\n      <td>16.805836</td>\n      <td>78.539024</td>\n      <td>0.632644</td>\n      <td>325122128.0</td>\n      <td>59914.777797</td>\n      <td>53.177159</td>\n      <td>31.600000</td>\n      <td>Argentina</td>\n      <td>2020</td>\n      <td>ARG</td>\n    </tr>\n    <tr>\n      <th>927</th>\n      <td>2.052716e+13</td>\n      <td>15.700000</td>\n      <td>1.7295</td>\n      <td>18.5562</td>\n      <td>11.600</td>\n      <td>5.6</td>\n      <td>10515.323242</td>\n      <td>16.687105</td>\n      <td>78.639024</td>\n      <td>0.526435</td>\n      <td>326838199.0</td>\n      <td>62805.253758</td>\n      <td>53.371362</td>\n      <td>31.600000</td>\n      <td>Brazil</td>\n      <td>2020</td>\n      <td>BRA</td>\n    </tr>\n    <tr>\n      <th>928</th>\n      <td>2.137257e+13</td>\n      <td>16.100000</td>\n      <td>1.7060</td>\n      <td>17.2524</td>\n      <td>11.400</td>\n      <td>5.5</td>\n      <td>10921.012695</td>\n      <td>16.767063</td>\n      <td>78.787805</td>\n      <td>0.455381</td>\n      <td>328329953.0</td>\n      <td>65094.799429</td>\n      <td>52.878313</td>\n      <td>31.600000</td>\n      <td>Italy</td>\n      <td>2020</td>\n      <td>ITA</td>\n    </tr>\n    <tr>\n      <th>929</th>\n      <td>2.089374e+13</td>\n      <td>16.570331</td>\n      <td>1.6375</td>\n      <td>15.9486</td>\n      <td>10.900</td>\n      <td>5.4</td>\n      <td>9767.349077</td>\n      <td>17.757796</td>\n      <td>77.280488</td>\n      <td>0.961201</td>\n      <td>331501080.0</td>\n      <td>63027.679527</td>\n      <td>66.187117</td>\n      <td>31.783991</td>\n      <td>Mexico</td>\n      <td>2020</td>\n      <td>MEX</td>\n    </tr>\n  </tbody>\n</table>\n<p>930 rows × 17 columns</p>\n</div>"
          },
          "metadata": {}
        }
      ],
      "execution_count": 14,
      "metadata": {
        "jupyter": {
          "source_hidden": false,
          "outputs_hidden": false
        },
        "nteract": {
          "transient": {
            "deleting": false
          }
        },
        "gather": {
          "logged": 1666784564397
        }
      }
    },
    {
      "cell_type": "code",
      "source": [
        "df2=df_rename.query(\"date != '2021'\")"
      ],
      "outputs": [],
      "execution_count": 15,
      "metadata": {
        "jupyter": {
          "source_hidden": false,
          "outputs_hidden": false
        },
        "nteract": {
          "transient": {
            "deleting": false
          }
        },
        "gather": {
          "logged": 1666784567035
        }
      }
    },
    {
      "cell_type": "code",
      "source": [
        "df2"
      ],
      "outputs": [
        {
          "output_type": "execute_result",
          "execution_count": 16,
          "data": {
            "text/plain": "     NY.GDP.MKTP.CD  SH.STA.SUIC.P5  SP.DYN.TFRT.IN  SP.ADO.TFRT  \\\n0      9.650979e+11       -0.950447          7.4660     162.8354   \n1     -9.837708e+10       -0.224073          7.4790     163.3822   \n2     -7.657523e+11        0.273106          7.5020     163.9290   \n3     -7.370584e+11        0.326369          7.5350     164.1888   \n4     -2.132502e+10       -0.044085          7.5720     164.4486   \n..              ...             ...             ...          ...   \n925    1.869511e+13       15.100000          1.8205      21.4754   \n926    1.947962e+13       15.900000          1.7655      19.8600   \n927    2.052716e+13       15.700000          1.7295      18.5562   \n928    2.137257e+13       16.100000          1.7060      17.2524   \n929    2.089374e+13       16.570331          1.6375      15.9486   \n\n     SP.DYN.CBRT.IN  SP.DYN.IMRT.IN  SH.XPD.CHEX.PC.CD  SH.XPD.CHEX.GD.ZS  \\\n0            48.880           120.8        1262.067695           7.381806   \n1            48.763           117.1        1341.144948           9.420020   \n2            48.709           113.5        1398.103213          10.874174   \n3            48.717           110.1        1421.178804          11.258260   \n4            48.770           106.9        1405.110385          10.592309   \n..              ...             ...                ...                ...   \n925          12.200             5.7        9775.000000          16.844324   \n926          11.800             5.7       10103.091797          16.805836   \n927          11.600             5.6       10515.323242          16.687105   \n928          11.400             5.5       10921.012695          16.767063   \n929          10.900             5.4        9767.349077          17.757796   \n\n     SP.DYN.LE00.IN  SP.POP.GROW  SP.POP.TOTL  NY.GDP.PCAP.CD  ncd_bmi_25a  \\\n0         50.331000     4.476954   12412311.0     8462.493597    10.400000   \n1         50.999000     6.900124   13299016.0    12846.415533    10.700000   \n2         51.641000     8.546107   14485543.0    15828.551365    11.000000   \n3         52.256000     8.790897   15816601.0    16388.252504    11.400000   \n4         52.842000     7.659796   17075728.0    14476.414424    11.700000   \n..              ...          ...          ...             ...          ...   \n925       78.539024     0.724676  323071755.0    57866.744934    67.900000   \n926       78.539024     0.632644  325122128.0    59914.777797    53.177159   \n927       78.639024     0.526435  326838199.0    62805.253758    53.371362   \n928       78.787805     0.455381  328329953.0    65094.799429    52.878313   \n929       77.280488     0.961201  331501080.0    63027.679527    66.187117   \n\n     ncd_hyp_prevalence_a country_value  date countryiso3code  \n0               35.500000   Afghanistan  1990             AFG  \n1               35.500000     Argentina  1990             ARG  \n2               35.600000     Australia  1990             AUS  \n3               35.600000    Bangladesh  1990             BGD  \n4               35.700000        Brazil  1990             BRA  \n..                    ...           ...   ...             ...  \n925             31.600000         Chile  2020             CHL  \n926             31.600000     Argentina  2020             ARG  \n927             31.600000        Brazil  2020             BRA  \n928             31.600000         Italy  2020             ITA  \n929             31.783991        Mexico  2020             MEX  \n\n[930 rows x 17 columns]",
            "text/html": "<div>\n<style scoped>\n    .dataframe tbody tr th:only-of-type {\n        vertical-align: middle;\n    }\n\n    .dataframe tbody tr th {\n        vertical-align: top;\n    }\n\n    .dataframe thead th {\n        text-align: right;\n    }\n</style>\n<table border=\"1\" class=\"dataframe\">\n  <thead>\n    <tr style=\"text-align: right;\">\n      <th></th>\n      <th>NY.GDP.MKTP.CD</th>\n      <th>SH.STA.SUIC.P5</th>\n      <th>SP.DYN.TFRT.IN</th>\n      <th>SP.ADO.TFRT</th>\n      <th>SP.DYN.CBRT.IN</th>\n      <th>SP.DYN.IMRT.IN</th>\n      <th>SH.XPD.CHEX.PC.CD</th>\n      <th>SH.XPD.CHEX.GD.ZS</th>\n      <th>SP.DYN.LE00.IN</th>\n      <th>SP.POP.GROW</th>\n      <th>SP.POP.TOTL</th>\n      <th>NY.GDP.PCAP.CD</th>\n      <th>ncd_bmi_25a</th>\n      <th>ncd_hyp_prevalence_a</th>\n      <th>country_value</th>\n      <th>date</th>\n      <th>countryiso3code</th>\n    </tr>\n  </thead>\n  <tbody>\n    <tr>\n      <th>0</th>\n      <td>9.650979e+11</td>\n      <td>-0.950447</td>\n      <td>7.4660</td>\n      <td>162.8354</td>\n      <td>48.880</td>\n      <td>120.8</td>\n      <td>1262.067695</td>\n      <td>7.381806</td>\n      <td>50.331000</td>\n      <td>4.476954</td>\n      <td>12412311.0</td>\n      <td>8462.493597</td>\n      <td>10.400000</td>\n      <td>35.500000</td>\n      <td>Afghanistan</td>\n      <td>1990</td>\n      <td>AFG</td>\n    </tr>\n    <tr>\n      <th>1</th>\n      <td>-9.837708e+10</td>\n      <td>-0.224073</td>\n      <td>7.4790</td>\n      <td>163.3822</td>\n      <td>48.763</td>\n      <td>117.1</td>\n      <td>1341.144948</td>\n      <td>9.420020</td>\n      <td>50.999000</td>\n      <td>6.900124</td>\n      <td>13299016.0</td>\n      <td>12846.415533</td>\n      <td>10.700000</td>\n      <td>35.500000</td>\n      <td>Argentina</td>\n      <td>1990</td>\n      <td>ARG</td>\n    </tr>\n    <tr>\n      <th>2</th>\n      <td>-7.657523e+11</td>\n      <td>0.273106</td>\n      <td>7.5020</td>\n      <td>163.9290</td>\n      <td>48.709</td>\n      <td>113.5</td>\n      <td>1398.103213</td>\n      <td>10.874174</td>\n      <td>51.641000</td>\n      <td>8.546107</td>\n      <td>14485543.0</td>\n      <td>15828.551365</td>\n      <td>11.000000</td>\n      <td>35.600000</td>\n      <td>Australia</td>\n      <td>1990</td>\n      <td>AUS</td>\n    </tr>\n    <tr>\n      <th>3</th>\n      <td>-7.370584e+11</td>\n      <td>0.326369</td>\n      <td>7.5350</td>\n      <td>164.1888</td>\n      <td>48.717</td>\n      <td>110.1</td>\n      <td>1421.178804</td>\n      <td>11.258260</td>\n      <td>52.256000</td>\n      <td>8.790897</td>\n      <td>15816601.0</td>\n      <td>16388.252504</td>\n      <td>11.400000</td>\n      <td>35.600000</td>\n      <td>Bangladesh</td>\n      <td>1990</td>\n      <td>BGD</td>\n    </tr>\n    <tr>\n      <th>4</th>\n      <td>-2.132502e+10</td>\n      <td>-0.044085</td>\n      <td>7.5720</td>\n      <td>164.4486</td>\n      <td>48.770</td>\n      <td>106.9</td>\n      <td>1405.110385</td>\n      <td>10.592309</td>\n      <td>52.842000</td>\n      <td>7.659796</td>\n      <td>17075728.0</td>\n      <td>14476.414424</td>\n      <td>11.700000</td>\n      <td>35.700000</td>\n      <td>Brazil</td>\n      <td>1990</td>\n      <td>BRA</td>\n    </tr>\n    <tr>\n      <th>...</th>\n      <td>...</td>\n      <td>...</td>\n      <td>...</td>\n      <td>...</td>\n      <td>...</td>\n      <td>...</td>\n      <td>...</td>\n      <td>...</td>\n      <td>...</td>\n      <td>...</td>\n      <td>...</td>\n      <td>...</td>\n      <td>...</td>\n      <td>...</td>\n      <td>...</td>\n      <td>...</td>\n      <td>...</td>\n    </tr>\n    <tr>\n      <th>925</th>\n      <td>1.869511e+13</td>\n      <td>15.100000</td>\n      <td>1.8205</td>\n      <td>21.4754</td>\n      <td>12.200</td>\n      <td>5.7</td>\n      <td>9775.000000</td>\n      <td>16.844324</td>\n      <td>78.539024</td>\n      <td>0.724676</td>\n      <td>323071755.0</td>\n      <td>57866.744934</td>\n      <td>67.900000</td>\n      <td>31.600000</td>\n      <td>Chile</td>\n      <td>2020</td>\n      <td>CHL</td>\n    </tr>\n    <tr>\n      <th>926</th>\n      <td>1.947962e+13</td>\n      <td>15.900000</td>\n      <td>1.7655</td>\n      <td>19.8600</td>\n      <td>11.800</td>\n      <td>5.7</td>\n      <td>10103.091797</td>\n      <td>16.805836</td>\n      <td>78.539024</td>\n      <td>0.632644</td>\n      <td>325122128.0</td>\n      <td>59914.777797</td>\n      <td>53.177159</td>\n      <td>31.600000</td>\n      <td>Argentina</td>\n      <td>2020</td>\n      <td>ARG</td>\n    </tr>\n    <tr>\n      <th>927</th>\n      <td>2.052716e+13</td>\n      <td>15.700000</td>\n      <td>1.7295</td>\n      <td>18.5562</td>\n      <td>11.600</td>\n      <td>5.6</td>\n      <td>10515.323242</td>\n      <td>16.687105</td>\n      <td>78.639024</td>\n      <td>0.526435</td>\n      <td>326838199.0</td>\n      <td>62805.253758</td>\n      <td>53.371362</td>\n      <td>31.600000</td>\n      <td>Brazil</td>\n      <td>2020</td>\n      <td>BRA</td>\n    </tr>\n    <tr>\n      <th>928</th>\n      <td>2.137257e+13</td>\n      <td>16.100000</td>\n      <td>1.7060</td>\n      <td>17.2524</td>\n      <td>11.400</td>\n      <td>5.5</td>\n      <td>10921.012695</td>\n      <td>16.767063</td>\n      <td>78.787805</td>\n      <td>0.455381</td>\n      <td>328329953.0</td>\n      <td>65094.799429</td>\n      <td>52.878313</td>\n      <td>31.600000</td>\n      <td>Italy</td>\n      <td>2020</td>\n      <td>ITA</td>\n    </tr>\n    <tr>\n      <th>929</th>\n      <td>2.089374e+13</td>\n      <td>16.570331</td>\n      <td>1.6375</td>\n      <td>15.9486</td>\n      <td>10.900</td>\n      <td>5.4</td>\n      <td>9767.349077</td>\n      <td>17.757796</td>\n      <td>77.280488</td>\n      <td>0.961201</td>\n      <td>331501080.0</td>\n      <td>63027.679527</td>\n      <td>66.187117</td>\n      <td>31.783991</td>\n      <td>Mexico</td>\n      <td>2020</td>\n      <td>MEX</td>\n    </tr>\n  </tbody>\n</table>\n<p>930 rows × 17 columns</p>\n</div>"
          },
          "metadata": {}
        }
      ],
      "execution_count": 16,
      "metadata": {
        "jupyter": {
          "source_hidden": false,
          "outputs_hidden": false
        },
        "nteract": {
          "transient": {
            "deleting": false
          }
        },
        "gather": {
          "logged": 1666784569113
        }
      }
    },
    {
      "cell_type": "code",
      "source": [
        "df2.to_csv('https://storagehenrypf.blob.core.windows.net/henrypf/data_cleansed.csv')"
      ],
      "outputs": [],
      "execution_count": 19,
      "metadata": {
        "jupyter": {
          "source_hidden": false,
          "outputs_hidden": false
        },
        "nteract": {
          "transient": {
            "deleting": false
          }
        },
        "gather": {
          "logged": 1666793035296
        }
      }
    },
    {
      "cell_type": "markdown",
      "source": [
        "##### stop"
      ],
      "metadata": {
        "nteract": {
          "transient": {
            "deleting": false
          }
        }
      }
    }
  ],
  "metadata": {
    "kernelspec": {
      "name": "python38-azureml",
      "language": "python",
      "display_name": "Python 3.8 - AzureML"
    },
    "language_info": {
      "name": "python",
      "version": "3.8.5",
      "mimetype": "text/x-python",
      "codemirror_mode": {
        "name": "ipython",
        "version": 3
      },
      "pygments_lexer": "ipython3",
      "nbconvert_exporter": "python",
      "file_extension": ".py"
    },
    "kernel_info": {
      "name": "python38-azureml"
    },
    "microsoft": {
      "host": {
        "AzureML": {
          "notebookHasBeenCompleted": true
        }
      }
    },
    "nteract": {
      "version": "nteract-front-end@1.0.0"
    }
  },
  "nbformat": 4,
  "nbformat_minor": 2
}